{
 "cells": [
  {
   "cell_type": "code",
   "execution_count": 1,
   "id": "af42f848",
   "metadata": {},
   "outputs": [
    {
     "name": "stderr",
     "output_type": "stream",
     "text": [
      "Setting default log level to \"WARN\".\n",
      "To adjust logging level use sc.setLogLevel(newLevel). For SparkR, use setLogLevel(newLevel).\n",
      "23/04/19 22:36:31 INFO org.apache.spark.SparkEnv: Registering MapOutputTracker\n",
      "23/04/19 22:36:31 INFO org.apache.spark.SparkEnv: Registering BlockManagerMaster\n",
      "23/04/19 22:36:31 INFO org.apache.spark.SparkEnv: Registering BlockManagerMasterHeartbeat\n",
      "23/04/19 22:36:32 INFO org.apache.spark.SparkEnv: Registering OutputCommitCoordinator\n"
     ]
    }
   ],
   "source": [
    "from pyspark import SparkContext, SparkConf\n",
    "cf = SparkConf()\n",
    "cf.set(\"spark.submit.deployMode\",\"client\")\n",
    "sc = SparkContext.getOrCreate(cf)\n",
    "from pyspark.sql import SparkSession\n",
    "spark = SparkSession \\\n",
    "\t    .builder \\\n",
    "\t    .appName(\"Python Spark SQL basic example\") \\\n",
    "\t    .config(\"spark.some.config.option\", \"some-value\") \\\n",
    "\t    .getOrCreate()\n",
    "                            "
   ]
  },
  {
   "cell_type": "code",
   "execution_count": 2,
   "id": "d4d11d4e",
   "metadata": {},
   "outputs": [
    {
     "name": "stderr",
     "output_type": "stream",
     "text": [
      "                                                                                \r"
     ]
    }
   ],
   "source": [
    "parking_df = spark.read.csv(path='/shared/CS-GY-6513/parking-violations/parking-violations-header.csv',header=True)"
   ]
  },
  {
   "cell_type": "code",
   "execution_count": 3,
   "id": "4d12fc90",
   "metadata": {},
   "outputs": [
    {
     "name": "stderr",
     "output_type": "stream",
     "text": [
      "                                                                                \r"
     ]
    },
    {
     "data": {
      "text/plain": [
       "1014017"
      ]
     },
     "execution_count": 3,
     "metadata": {},
     "output_type": "execute_result"
    }
   ],
   "source": [
    "parking_df.count()"
   ]
  },
  {
   "cell_type": "code",
   "execution_count": 4,
   "id": "e3d7590e",
   "metadata": {},
   "outputs": [
    {
     "name": "stderr",
     "output_type": "stream",
     "text": [
      "                                                                                \r"
     ]
    },
    {
     "data": {
      "text/plain": [
       "1014017"
      ]
     },
     "execution_count": 4,
     "metadata": {},
     "output_type": "execute_result"
    }
   ],
   "source": [
    "parking_df.select('summons_number').distinct().count()"
   ]
  },
  {
   "cell_type": "code",
   "execution_count": 5,
   "id": "897cfe93",
   "metadata": {},
   "outputs": [
    {
     "name": "stdout",
     "output_type": "stream",
     "text": [
      "+--------------------------+\n",
      "|count(DISTINCT plate_type)|\n",
      "+--------------------------+\n",
      "|                        75|\n",
      "+--------------------------+\n",
      "\n"
     ]
    }
   ],
   "source": [
    "# Register the DataFrame as a SQL temporary view\n",
    "parking_df.createOrReplaceTempView(\"parking\")\n",
    "spark.sql(\"SELECT count(DISTINCT plate_type) FROM parking\").show()\n"
   ]
  },
  {
   "cell_type": "code",
   "execution_count": 6,
   "id": "e045368d",
   "metadata": {},
   "outputs": [
    {
     "name": "stdout",
     "output_type": "stream",
     "text": [
      "+----------+\n",
      "|plate_type|\n",
      "+----------+\n",
      "|       CCK|\n",
      "|       CLG|\n",
      "|       SOS|\n",
      "|       SPC|\n",
      "|       SUP|\n",
      "|       NYA|\n",
      "|       OMO|\n",
      "|       LMB|\n",
      "|       APP|\n",
      "|       RGL|\n",
      "|       FAR|\n",
      "|       CHC|\n",
      "|       STA|\n",
      "|       BOT|\n",
      "|       COM|\n",
      "|       RGC|\n",
      "|       TRC|\n",
      "|       AMB|\n",
      "|       HAM|\n",
      "|       MCD|\n",
      "+----------+\n",
      "only showing top 20 rows\n",
      "\n"
     ]
    }
   ],
   "source": [
    "# List the distinct plate types in the table\n",
    "spark.sql(\"SELECT DISTINCT plate_type FROM parking\").show()"
   ]
  },
  {
   "cell_type": "code",
   "execution_count": 7,
   "id": "cc645d0f",
   "metadata": {},
   "outputs": [
    {
     "name": "stdout",
     "output_type": "stream",
     "text": [
      "+----------+------+\n",
      "|plate_type| count|\n",
      "+----------+------+\n",
      "|       CLG|     2|\n",
      "|       NYA|     3|\n",
      "|       SPC|    28|\n",
      "|       SOS|    15|\n",
      "|       OMO|     2|\n",
      "|       LMB|     2|\n",
      "|       SUP|     8|\n",
      "|       CCK|     2|\n",
      "|       APP|  1952|\n",
      "|       RGL|   524|\n",
      "|       CHC|    35|\n",
      "|       BOT|     2|\n",
      "|       STA|    33|\n",
      "|       FAR|     2|\n",
      "|       COM|190147|\n",
      "|       TRC|  2784|\n",
      "|       RGC|    25|\n",
      "|       AMB|    17|\n",
      "|       HAM|    19|\n",
      "|       NYS|     5|\n",
      "+----------+------+\n",
      "only showing top 20 rows\n",
      "\n"
     ]
    }
   ],
   "source": [
    "# List each distinct plate type and its frequency in the table\n",
    "# e.g.\n",
    "#    plate_type count\n",
    "#    PAS        740554\n",
    "#    COM        190147\n",
    "\n",
    "spark.sql(\"SELECT plate_type, count(plate_type) AS count FROM parking GROUP BY plate_type\").show()\n"
   ]
  },
  {
   "cell_type": "code",
   "execution_count": 8,
   "id": "d4617eea",
   "metadata": {},
   "outputs": [
    {
     "name": "stdout",
     "output_type": "stream",
     "text": [
      "+----------+------+\n",
      "|plate_type| count|\n",
      "+----------+------+\n",
      "|       PAS|740554|\n",
      "|       COM|190147|\n",
      "|       OMT| 35480|\n",
      "|       OMS|  9032|\n",
      "|       SRF|  8341|\n",
      "|       IRP|  5291|\n",
      "|       999|  4467|\n",
      "|       TRC|  2784|\n",
      "|       OMR|  2158|\n",
      "|       APP|  1952|\n",
      "|       MOT|  1851|\n",
      "|       ORG|  1591|\n",
      "|       CMB|  1368|\n",
      "|       MED|  1211|\n",
      "|       OML|  1181|\n",
      "|       PSD|   900|\n",
      "|       SPO|   823|\n",
      "|       SCL|   700|\n",
      "|       TOW|   611|\n",
      "|       RGL|   524|\n",
      "+----------+------+\n",
      "only showing top 20 rows\n",
      "\n"
     ]
    }
   ],
   "source": [
    "# order the results of the previous query by count, the most frequent should appear first\n",
    "spark.sql(\"SELECT DISTINCT plate_type, count(plate_type) AS count FROM parking GROUP BY plate_type ORDER BY count DESC\").show()"
   ]
  },
  {
   "cell_type": "code",
   "execution_count": 9,
   "id": "1ce69d90",
   "metadata": {},
   "outputs": [
    {
     "name": "stdout",
     "output_type": "stream",
     "text": [
      "+----------+------+\n",
      "|plate_type| count|\n",
      "+----------+------+\n",
      "|       PAS|740554|\n",
      "|       COM|190147|\n",
      "|       OMT| 35480|\n",
      "|       OMS|  9032|\n",
      "|       SRF|  8341|\n",
      "|       IRP|  5291|\n",
      "|      null|  4467|\n",
      "|       TRC|  2784|\n",
      "|       OMR|  2158|\n",
      "|       APP|  1952|\n",
      "|       MOT|  1851|\n",
      "|       ORG|  1591|\n",
      "|       CMB|  1368|\n",
      "|       MED|  1211|\n",
      "|       OML|  1181|\n",
      "|       PSD|   900|\n",
      "|       SPO|   823|\n",
      "|       SCL|   700|\n",
      "|       TOW|   611|\n",
      "|       RGL|   524|\n",
      "|       VAS|   427|\n",
      "|       SRN|   348|\n",
      "|       DLR|   333|\n",
      "|       TRA|   318|\n",
      "|       ITP|   283|\n",
      "|       TRL|   223|\n",
      "+----------+------+\n",
      "only showing top 26 rows\n",
      "\n"
     ]
    }
   ],
   "source": [
    "# change plate_type 999 to null\n",
    "from pyspark.sql import functions as F\n",
    "parking_df2 = parking_df.withColumn('plate_type', F.when(parking_df['plate_type']=='999', 'null').otherwise(parking_df['plate_type']))\n",
    "parking_df2.groupBy('plate_type').count().orderBy('count', ascending=False).show(26)\n"
   ]
  },
  {
   "cell_type": "code",
   "execution_count": 10,
   "id": "b0100679",
   "metadata": {},
   "outputs": [
    {
     "name": "stdout",
     "output_type": "stream",
     "text": [
      "+----------+------+\n",
      "|plate_type| count|\n",
      "+----------+------+\n",
      "|       PAS|740554|\n",
      "|       COM|190147|\n",
      "|       OMT| 35480|\n",
      "|       OMS|  9032|\n",
      "|       SRF|  8341|\n",
      "|       IRP|  5291|\n",
      "|       TRC|  2784|\n",
      "|       OMR|  2158|\n",
      "|       APP|  1952|\n",
      "|       MOT|  1851|\n",
      "|       ORG|  1591|\n",
      "|       CMB|  1368|\n",
      "|       MED|  1211|\n",
      "|       OML|  1181|\n",
      "|       PSD|   900|\n",
      "|       SPO|   823|\n",
      "|       SCL|   700|\n",
      "|       TOW|   611|\n",
      "|       RGL|   524|\n",
      "|       VAS|   427|\n",
      "|       SRN|   348|\n",
      "|       DLR|   333|\n",
      "|       TRA|   318|\n",
      "|       ITP|   283|\n",
      "|       TRL|   223|\n",
      "|       CMH|   203|\n",
      "+----------+------+\n",
      "only showing top 26 rows\n",
      "\n"
     ]
    }
   ],
   "source": [
    "# remove all rows where plate_type=999  \n",
    "\n",
    "parking_df2 = parking_df.filter(parking_df['plate_type'] != '999')\n",
    "parking_df2.groupBy('plate_type').count().orderBy('count', ascending=False).show(26)"
   ]
  },
  {
   "cell_type": "code",
   "execution_count": 11,
   "id": "39015661",
   "metadata": {},
   "outputs": [
    {
     "data": {
      "text/plain": [
       "192974"
      ]
     },
     "execution_count": 11,
     "metadata": {},
     "output_type": "execute_result"
    }
   ],
   "source": [
    "# Suppose we are interested in analyzing violations based on what county they occur.\n",
    "# We might want to exclude rows that have a blank entry in the violation_county column.\n",
    "# How many rows have Blank Entries in violation_county?\n",
    "parking_df.filter( parking_df[\"violation_county\"].isNull()).count()"
   ]
  },
  {
   "cell_type": "code",
   "execution_count": 12,
   "id": "6979fcf3",
   "metadata": {},
   "outputs": [
    {
     "data": {
      "text/plain": [
       "821043"
      ]
     },
     "execution_count": 12,
     "metadata": {},
     "output_type": "execute_result"
    }
   ],
   "source": [
    "# Create a new dataframe without any black entries in violation_count\n",
    "parking_df4 = parking_df.filter(parking_df['violation_county'].isNotNull())\n",
    "parking_df4.count()"
   ]
  },
  {
   "cell_type": "code",
   "execution_count": 13,
   "id": "40090989",
   "metadata": {},
   "outputs": [
    {
     "name": "stderr",
     "output_type": "stream",
     "text": [
      "                                                                                \r"
     ]
    },
    {
     "data": {
      "text/plain": [
       "['GBH2444',\n",
       " 'GKZ2313',\n",
       " 'N346594',\n",
       " 'GDP2624',\n",
       " '42555JU',\n",
       " '62636MD',\n",
       " 'DPE3045',\n",
       " 'FMW7832',\n",
       " 'DSD2130',\n",
       " '65111MB',\n",
       " 'GMZ3750',\n",
       " '44884',\n",
       " 'XZ876G',\n",
       " 'PIKINE',\n",
       " 'GMU4296',\n",
       " 'GEJ8235',\n",
       " '74452JW',\n",
       " '42972JW',\n",
       " '66951',\n",
       " '63400JM',\n",
       " 'GGS5172',\n",
       " '51329A',\n",
       " '49216KA',\n",
       " '31695JZ',\n",
       " '79638KA',\n",
       " '88720MB',\n",
       " 'ERP5344',\n",
       " 'FWM1758',\n",
       " '14307LV',\n",
       " 'EWT1353',\n",
       " '65566PA',\n",
       " 'FPF5158',\n",
       " '24393MC',\n",
       " '24393MG',\n",
       " 'FXR1798',\n",
       " 'FWH9893',\n",
       " '88629JH',\n",
       " '1510332',\n",
       " 'DJE1615',\n",
       " '2208656',\n",
       " 'GXC7520',\n",
       " 'GRC4443',\n",
       " 'T639084C',\n",
       " 'GARFR5',\n",
       " 'GTJ6780',\n",
       " '401ZGU',\n",
       " 'ZWF21Z',\n",
       " 'S274036',\n",
       " 'PF090W',\n",
       " 'GLR6718']"
      ]
     },
     "execution_count": 13,
     "metadata": {},
     "output_type": "execute_result"
    }
   ],
   "source": [
    "# Let's clean the plate_ids\n",
    "# “Clustering” helps detect entries in a column that are close together (and thus represent the same value\n",
    "\n",
    "plate_id_rdd = parking_df.select('plate_id').rdd.flatMap(list)\n",
    "plate_id_rdd.take(50)"
   ]
  },
  {
   "cell_type": "markdown",
   "id": "79190cfd",
   "metadata": {},
   "source": [
    "\"Key Collision\" methods are based on the idea of creating a key value that contains only \n",
    " the most valuable or meaningful part of the string and groups together different strings based \n",
    " on the fact that their key is the same (hence the name \"key collision\").\n",
    "Fingerprinting Method:\n",
    "note that the order of these operations (the last 3 lines) is significant.\n",
    "remove leading and trailing whitespace\t\n",
    "change all characters to their lowercase representation\n",
    "remove all punctuation and control characters\n",
    "normalize extended western characters to their ASCII representation (for example \"gödel\" → \"godel\")\n",
    "split the string into whitespace-separated tokens\n",
    "sort the tokens and remove duplicates\n",
    "join the tokens back together\n"
   ]
  },
  {
   "cell_type": "code",
   "execution_count": 14,
   "id": "df418993",
   "metadata": {},
   "outputs": [],
   "source": [
    "import string, unicodedata\n",
    "def fingerprint(value):\n",
    "    key = unicodedata.normalize('NFKD', value).encode('ascii','ignore').decode()\n",
    "    key = set(key.strip().lower().translate(str.maketrans('','',string.punctuation)).split())\n",
    "    key = ' '.join(sorted(list(key)))\n",
    "    return (key, value)"
   ]
  },
  {
   "cell_type": "code",
   "execution_count": 15,
   "id": "29495b7e",
   "metadata": {},
   "outputs": [
    {
     "name": "stderr",
     "output_type": "stream",
     "text": [
      "                                                                                \r"
     ]
    },
    {
     "data": {
      "text/plain": [
       "('gkz2313', 'GKZ2313')"
      ]
     },
     "execution_count": 15,
     "metadata": {},
     "output_type": "execute_result"
    }
   ],
   "source": [
    "plate_id_rdd.distinct().map(fingerprint).first()"
   ]
  },
  {
   "cell_type": "code",
   "execution_count": 16,
   "id": "69b3293f",
   "metadata": {},
   "outputs": [
    {
     "name": "stderr",
     "output_type": "stream",
     "text": [
      "                                                                                \r"
     ]
    },
    {
     "data": {
      "text/plain": [
       "[('gkz2313', 'GKZ2313'),\n",
       " ('44884', '44884'),\n",
       " ('pikine', 'PIKINE'),\n",
       " ('gmu4296', 'GMU4296'),\n",
       " ('gtd7184', 'GTD7184')]"
      ]
     },
     "execution_count": 16,
     "metadata": {},
     "output_type": "execute_result"
    }
   ],
   "source": [
    "plate_id_rdd.distinct().map(fingerprint).take(5)"
   ]
  },
  {
   "cell_type": "code",
   "execution_count": 17,
   "id": "d721d96a",
   "metadata": {
    "scrolled": true
   },
   "outputs": [
    {
     "name": "stderr",
     "output_type": "stream",
     "text": [
      "                                                                                \r"
     ]
    },
    {
     "data": {
      "text/plain": [
       "[('2970cp', ['2970.CP', '2970CP']),\n",
       " ('ap717y', ['AP717Y', 'AP7!17Y']),\n",
       " ('xbgv20', ['XBGV20', 'XBG.V20']),\n",
       " ('47879mg', ['47879MG', '47879MG.']),\n",
       " ('849rzb', ['849RZB', '849RZB.']),\n",
       " ('12224mg', ['12224MG', '1222]4MG']),\n",
       " ('jhd0328', ['JHD0328', 'JHD0328.']),\n",
       " ('ab73725', ['AB.73725', 'AB73725']),\n",
       " ('88cs02', ['88CS02', '88C.S02']),\n",
       " ('l21687', ['L21687', 'L.21687']),\n",
       " ('na', ['NA', 'N/A']),\n",
       " ('64582md', ['64582MD.', '64582MD']),\n",
       " ('6786cx', ['6786.CX', '6786CX']),\n",
       " ('zxf293', ['ZXF293+', 'ZXF293']),\n",
       " ('u57afu', ['U57AFU', 'U57.AFU']),\n",
       " ('jnp981', ['JNP981', 'JNP981&']),\n",
       " ('41690ja', ['41690JA', '41690JA+']),\n",
       " ('xt549k', ['XT.549K', 'XT549K']),\n",
       " ('zgk7779', ['ZGK7779', 'ZGK.7779']),\n",
       " ('l08275', ['L08(275', 'L08275']),\n",
       " ('hkv4504', ['HKV4504', 'HKV!4504']),\n",
       " ('7', ['7!', '7']),\n",
       " ('ete3059', ['ETE3059+', 'ETE3059']),\n",
       " ('l21741', ['L.21741', 'L21741']),\n",
       " ('jcw0303', ['JCW0303`', 'JCW0303']),\n",
       " ('k90404', ['K90404', 'K.90404']),\n",
       " ('aj511c', ['AJ511C', 'AJ.511C']),\n",
       " ('hcv1327', ['HCV1327', 'HCV!1327']),\n",
       " ('24787jz', ['24787JZ', '24787,JZ']),\n",
       " ('fcz8588', ['FCZ8588', 'FCZ!8588']),\n",
       " ('smutty', ['SMUTTY+', 'SMUTTY']),\n",
       " ('1mdm', ['1MDM', '#1MDM']),\n",
       " ('ns', ['NS', 'N/S'])]"
      ]
     },
     "execution_count": 17,
     "metadata": {},
     "output_type": "execute_result"
    }
   ],
   "source": [
    "# apply the fingerprint function to all plate_id values, and group the ones\n",
    "# that have the same key\n",
    "# mapValues(list) - makes the grouped values into a list\n",
    "plate_id_rdd.distinct(). \\\n",
    "\tmap(fingerprint). \\\n",
    "\tgroupByKey(). \\\n",
    "\tfilter(lambda x: len(x[1])>1). \\\n",
    "\tmapValues(list). \\\n",
    "\tcollect()\n"
   ]
  },
  {
   "cell_type": "code",
   "execution_count": 18,
   "id": "2331c64c",
   "metadata": {},
   "outputs": [
    {
     "name": "stderr",
     "output_type": "stream",
     "text": [
      "                                                                                \r"
     ]
    },
    {
     "data": {
      "text/plain": [
       "[('2970cp', <pyspark.resultiterable.ResultIterable at 0x7f5765003580>),\n",
       " ('ap717y', <pyspark.resultiterable.ResultIterable at 0x7f57650035e0>),\n",
       " ('xbgv20', <pyspark.resultiterable.ResultIterable at 0x7f5765003640>),\n",
       " ('849rzb', <pyspark.resultiterable.ResultIterable at 0x7f5765003dc0>),\n",
       " ('ab73725', <pyspark.resultiterable.ResultIterable at 0x7f5765003e50>)]"
      ]
     },
     "execution_count": 18,
     "metadata": {},
     "output_type": "execute_result"
    }
   ],
   "source": [
    "plate_id_rdd.distinct(). \\\n",
    "\tmap(fingerprint). \\\n",
    "\tgroupByKey(). \\\n",
    "\tfilter(lambda x: len(x[1])>1).take(5)\n"
   ]
  },
  {
   "cell_type": "code",
   "execution_count": 19,
   "id": "7e6151e0",
   "metadata": {},
   "outputs": [
    {
     "name": "stdout",
     "output_type": "stream",
     "text": [
      "+--------------+----------+--------------+----------------+---------------------+------------------+------------------+--------------+-------------------+------------+-----------+--------------+---------------+--------------+--------+----------+------------------+---------------+-----------------+-------------+------------+------------+\n",
      "|summons_number|issue_date|violation_code|violation_county|violation_description|violation_location|violation_precinct|violation_time|time_first_observed|meter_number|issuer_code|issuer_command|issuer_precinct|issuing_agency|plate_id|plate_type|registration_state|    street_name|vehicle_body_type|vehicle_color|vehicle_make|vehicle_year|\n",
      "+--------------+----------+--------------+----------------+---------------------+------------------+------------------+--------------+-------------------+------------+-----------+--------------+---------------+--------------+--------+----------+------------------+---------------+-----------------+-------------+------------+------------+\n",
      "|    7081878969|2016-03-10|            48|              BX|         48-Bike Lane|                40|                40|         1019A|               null|        null|     358609|          T201|             40|             T|  2970CP|       COM|                CT|    Melrose Ave|             PICK|          TAN|        FORD|           0|\n",
      "|    7191964236|2016-03-04|            38|              BX| 38-Failure to Dis...|                47|                47|         0254P|               null|        null|     363080|          T201|             47|             T|  2970CP|       999|                CT|      Boston Rd|             PICK|        WHITE|        FORD|           0|\n",
      "|    7417510589|2016-03-16|            46|              BX| 46B-Double Parkin...|                44|                44|         0356P|              1200P|        null|     361796|          T201|             44|             T|  2970CP|       CMB|                CT|Grand Concourse|              VAN|        WHITE|        FORD|           0|\n",
      "|    7554375489|2016-03-08|            46|              BX| 46B-Double Parkin...|                45|                45|         1055A|              1050A|        null|     362268|          T201|             45|             T| 2970.CP|       CMB|                CT|  E Tremont Ave|             PICK|        WHITE|        FORD|           0|\n",
      "|    7637915049|2016-03-15|            37|              BX| 37-Expired Muni M...|                43|                43|         0421P|              0415P|    217-3200|     363079|          T201|             43|             T|  2970CP|       999|                CT|        Wood Rd|             PICK|        WHITE|        FORD|           0|\n",
      "+--------------+----------+--------------+----------------+---------------------+------------------+------------------+--------------+-------------------+------------+-----------+--------------+---------------+--------------+--------+----------+------------------+---------------+-----------------+-------------+------------+------------+\n",
      "\n"
     ]
    }
   ],
   "source": [
    "# To determine a cluster should be merged or not, you can look more closely at the data.\n",
    "# check the other attributes to determine if the two ids correspond to the same entity\n",
    "parking_df.where((parking_df.plate_id == '2970CP') | \\\n",
    "\t(parking_df.plate_id == '2970.CP')). \\\n",
    "\tshow()\n"
   ]
  },
  {
   "cell_type": "code",
   "execution_count": 20,
   "id": "e2c41350",
   "metadata": {},
   "outputs": [],
   "source": [
    "# clustering on the street_name column.\n",
    "street_name_rdd = parking_df.select('street_name').distinct().rdd.flatMap(list).filter(lambda x: x!=None)"
   ]
  },
  {
   "cell_type": "code",
   "execution_count": 21,
   "id": "e9614879",
   "metadata": {},
   "outputs": [
    {
     "data": {
      "text/plain": [
       "['Mount Hope Pl', 'Carver Loop', 'Rombouts Ave']"
      ]
     },
     "execution_count": 21,
     "metadata": {},
     "output_type": "execute_result"
    }
   ],
   "source": [
    "street_name_rdd.take(3)"
   ]
  },
  {
   "cell_type": "code",
   "execution_count": 22,
   "id": "d51099e4",
   "metadata": {},
   "outputs": [],
   "source": [
    "# apply the fingerprint to all street addresses\n",
    "#[('court square', 'COURT SQUARE'),\n",
    "# ('31 e st', 'E 31 ST'),\n",
    "# ('island randalls', 'RANDALLS ISLAND'),\n",
    "# ('45th e street', 'E 45TH STREET'),\n",
    "# ('ave sheridan', 'SHERIDAN AVE')]"
   ]
  },
  {
   "cell_type": "code",
   "execution_count": 23,
   "id": "a476f3a3",
   "metadata": {},
   "outputs": [
    {
     "data": {
      "text/plain": [
       "('235 nb st w', 'N/B W 235 ST')"
      ]
     },
     "execution_count": 23,
     "metadata": {},
     "output_type": "execute_result"
    }
   ],
   "source": [
    "street_name_rdd.distinct().map(fingerprint).first()"
   ]
  },
  {
   "cell_type": "code",
   "execution_count": 24,
   "id": "6d73ac9f",
   "metadata": {},
   "outputs": [
    {
     "data": {
      "text/plain": [
       "[('plains rd white', ['White Plains Rd', 'WHITE PLAINS RD']),\n",
       " ('ave riverdale', ['Riverdale Ave', 'RIVERDALE AVE']),\n",
       " ('eldert ln', ['ELDERT LN', 'Eldert Ln']),\n",
       " ('ave chittenden', ['CHITTENDEN AVE', 'Chittenden Ave']),\n",
       " ('5 avenue', ['5 AVENUE', 'AVENUE 5']),\n",
       " ('184th st', ['184th St', '184TH ST']),\n",
       " ('ave ryder', ['Ryder Ave', 'RYDER AVE']),\n",
       " ('ave foothill', ['Foothill Ave', 'FOOTHILL AVE']),\n",
       " ('ave lott', ['Lott Ave', 'LOTT AVE']),\n",
       " ('marine way', ['Marine Way', 'MARINE WAY']),\n",
       " ('astor pl', ['Astor Pl', 'ASTOR PL']),\n",
       " ('37th ave', ['37TH AVE', '37th Ave']),\n",
       " ('clawson st', ['Clawson St', 'CLAWSON ST']),\n",
       " ('ave shepard', ['SHEPARD AVE', 'Shepard Ave']),\n",
       " ('gramercy park', ['Gramercy Park', 'GRAMERCY PARK']),\n",
       " ('degraw st', ['Degraw St', 'DEGRAW ST']),\n",
       " ('ave glenmore', ['Glenmore Ave', 'GLENMORE AVE']),\n",
       " ('ave neptune', ['Neptune Ave', 'NEPTUNE  AVE', 'NEPTUNE AVE']),\n",
       " ('hartman ln', ['HARTMAN LN', 'Hartman Ln']),\n",
       " ('7 arr jfkia terminal', ['TERMINAL 7 JFKIA ARR', 'JFKIA TERMINAL 7 ARR']),\n",
       " ('leavitt st', ['Leavitt St', 'LEAVITT ST']),\n",
       " ('market ns slip', ['N/S MARKET SLIP', 'N/S MARKET  SLIP']),\n",
       " ('dongan st', ['Dongan St', 'DONGAN ST']),\n",
       " ('richardson st', ['RICHARDSON ST', 'Richardson St']),\n",
       " ('oval reservoir', ['Reservoir Oval', 'RESERVOIR OVAL']),\n",
       " ('156th st w', ['W 156TH ST', 'W 156th St']),\n",
       " ('avenue x', ['AVENUE X', 'Avenue X']),\n",
       " ('college manhattan pk', ['MANHATTAN COLLEGE PK', 'Manhattan College Pk']),\n",
       " ('ave co ne third', ['NE C/O THIRD AVE', 'N/E C/O THIRD AVE']),\n",
       " ('fleet st', ['Fleet St', 'FLEET ST']),\n",
       " ('120th e st', ['E 120TH ST', 'E 120th St']),\n",
       " ('5th ave', ['5th Ave', '5TH  AVE', '5TH AVE']),\n",
       " ('st woodhull', ['WOODHULL ST', 'Woodhull St']),\n",
       " ('spencer st', ['SPENCER ST', 'Spencer St']),\n",
       " ('hwy kings', ['Kings Hwy', 'KINGS HWY', 'KINGS .HWY']),\n",
       " ('bedford blvd park', ['BEDFORD PARK BLVD', 'Bedford Park Blvd']),\n",
       " ('albemarle rd', ['Albemarle Rd', 'ALBEMARLE RD']),\n",
       " ('ave byron', ['Byron Ave', 'BYRON AVE']),\n",
       " ('ave garfield', ['Garfield Ave', 'GARFIELD AVE']),\n",
       " ('st worth', ['WORTH ST', 'Worth St']),\n",
       " ('55 e st', ['E 55 ST', 'E .55 ST']),\n",
       " ('96th e st', ['E 96TH ST', 'E 96th St', 'E 96TH  ST']),\n",
       " ('ave puritan', ['Puritan Ave', 'PURITAN AVE']),\n",
       " ('hemlock st', ['Hemlock St', 'HEMLOCK  ST', 'HEMLOCK ST']),\n",
       " ('ave pleasant', ['PLEASANT AVE', 'Pleasant Ave']),\n",
       " ('bush st', ['Bush St', 'BUSH ST']),\n",
       " ('pl thornton', ['THORNTON PL', 'Thornton Pl']),\n",
       " ('ave burnside w', ['W BURNSIDE AVE', 'W Burnside Ave']),\n",
       " ('st stockholm', ['Stockholm St', 'STOCKHOLM ST', 'STOCKHOLM  ST']),\n",
       " ('amboy st', ['Amboy St', 'AMBOY ST']),\n",
       " ('223rd pl', ['223rd Pl', '223RD PL']),\n",
       " ('ave lasalle', ['Lasalle Ave', 'LASALLE AVE']),\n",
       " ('sagamore st', ['SAGAMORE ST', 'Sagamore St']),\n",
       " ('amethyst st', ['AMETHYST ST', 'Amethyst St']),\n",
       " ('kosciusko st', ['Kosciusko St', 'KOSCIUSKO ST']),\n",
       " ('selfridge st', ['Selfridge St', 'SELFRIDGE ST']),\n",
       " ('middletown rd', ['MIDDLETOWN RD', 'Middletown Rd']),\n",
       " ('berry st', ['BERRY ST', 'Berry St']),\n",
       " ('pelham pkwy so', ['PELHAM PKWY  SO', 'PELHAM PKWY SO', 'PELHAM  PKWY SO']),\n",
       " ('carroll pl', ['CARROLL PL', 'CARROLL  PL', 'Carroll Pl']),\n",
       " ('st truxton', ['Truxton St', 'TRUXTON ST']),\n",
       " ('fuller pl', ['FULLER PL', 'Fuller Pl']),\n",
       " ('ave summit', ['SUMMIT  AVE', 'Summit Ave', 'SUMMIT AVE']),\n",
       " ('40th ave', ['40TH AVE', '40th Ave']),\n",
       " ('164th st', ['164TH ST', '164th St']),\n",
       " ('expy harding horace', ['HORACE HARDING EXPY', 'Horace Harding Expy']),\n",
       " ('105th e st', ['E 105TH ST', 'E 105th St']),\n",
       " ('102 e st', ['E 102  ST', 'E 102 ST', 'E .102 ST']),\n",
       " ('corporal st stone', ['CORPORAL STONE ST', 'Corporal Stone St']),\n",
       " ('15th brighton st', ['BRIGHTON 15TH ST', 'Brighton 15th St']),\n",
       " ('ave st theresa', ['St Theresa Ave', 'ST THERESA AVE']),\n",
       " ('st waterbury', ['Waterbury St', 'WATERBURY ST']),\n",
       " ('ave patchen', ['PATCHEN AVE', 'Patchen Ave']),\n",
       " ('grand st', ['GRAND ST', 'Grand St']),\n",
       " ('ave wilder', ['Wilder Ave', 'WILDER AVE']),\n",
       " ('nicholas st ter', ['St Nicholas Ter', 'ST NICHOLAS TER']),\n",
       " ('lorimer st', ['Lorimer St', 'LORIMER  ST', 'LORIMER ST']),\n",
       " ('campus rd', ['Campus Rd', 'CAMPUS RD']),\n",
       " ('astoria blvd n', ['ASTORIA BLVD  N', 'ASTORIA BLVD N']),\n",
       " ('st varet', ['Varet St', 'VARET ST']),\n",
       " ('ave dixon', ['DIXON AVE', 'Dixon Ave']),\n",
       " ('n oxford st', ['N Oxford St', 'N OXFORD ST']),\n",
       " ('ave muliner', ['Muliner Ave', 'MULINER AVE']),\n",
       " ('ave cedar', ['CEDAR  AVE', 'CEDAR AVE', 'Cedar Ave']),\n",
       " ('osborn st', ['Osborn St', 'OSBORN ST']),\n",
       " ('62nd dr', ['62ND DR', '62nd Dr']),\n",
       " ('ave sprague', ['Sprague Ave', 'SPRAGUE AVE']),\n",
       " ('henry n st', ['N Henry St', 'N HENRY ST']),\n",
       " ('23rd st w', ['W 23RD ST', 'W 23rd St']),\n",
       " ('bronx cross expy', ['CROSS BRONX EXPY', 'Cross Bronx Expy']),\n",
       " ('22nd beach st', ['BEACH 22ND ST', 'Beach 22nd St']),\n",
       " ('ave co franklin nw', ['NW C/O FRANKLIN AVE', 'N/W C/O FRANKLIN AVE']),\n",
       " ('noble st', ['Noble St', 'NOBLE ST']),\n",
       " ('krier pl', ['Krier Pl', 'KRIER PL']),\n",
       " ('44th e st', ['E 44TH ST', 'E 44th St']),\n",
       " ('126th st', ['126TH ST', '126th St']),\n",
       " ('ave nagle', ['Nagle Ave', 'NAGLE AVE']),\n",
       " ('127th st', ['127TH ST', '127th St']),\n",
       " ('eagle st', ['Eagle St', 'EAGLE ST']),\n",
       " ('ave close', ['CLOSE AVE', 'Close Ave']),\n",
       " ('172nd e st', ['E 172nd St', 'E 172ND ST']),\n",
       " ('lyman pl', ['LYMAN PL', 'Lyman Pl']),\n",
       " ('32nd st', ['32ND ST', '32nd St']),\n",
       " ('cross st', ['CROSS ST', 'Cross St']),\n",
       " ('9th ave', ['9th Ave', '9TH AVE', '9TH  AVE']),\n",
       " ('fernside pl', ['Fernside Pl', 'FERNSIDE PL']),\n",
       " ('ave delaware', ['Delaware Ave', 'DELAWARE AVE']),\n",
       " ('charlton st', ['CHARLTON ST', 'Charlton St']),\n",
       " ('ave thatford', ['THATFORD AVE', 'Thatford Ave']),\n",
       " ('ave coolidge', ['COOLIDGE AVE', 'Coolidge Ave']),\n",
       " ('hancock st', ['HANCOCK ST', 'Hancock St']),\n",
       " ('167 w', ['W 167', 'W .167']),\n",
       " ('ave willett', ['WILLETT AVE', 'Willett Ave']),\n",
       " ('blvd highland', ['Highland Blvd', 'HIGHLAND BLVD']),\n",
       " ('juniper rd valley', ['Juniper Valley Rd', 'JUNIPER VALLEY RD']),\n",
       " ('lincoln st', ['Lincoln St', 'LINCOLN ST']),\n",
       " ('ave harper', ['HARPER AVE', 'Harper Ave']),\n",
       " ('crotona n park', ['CROTONA  PARK N', 'CROTONA PARK N']),\n",
       " ('ave vireo', ['Vireo Ave', 'VIREO AVE']),\n",
       " ('3rd paerdegat st', ['Paerdegat 3rd St', 'PAERDEGAT 3RD ST']),\n",
       " ('6th n st', ['N 6th St', 'N 6TH ST']),\n",
       " ('ave plimpton', ['Plimpton Ave', 'PLIMPTON AVE']),\n",
       " ('st wall', ['WALL ST', 'Wall St']),\n",
       " ('51st e st', ['E 51st St', 'E 51ST ST']),\n",
       " ('ave fort george', ['FORT GEORGE AVE', 'Fort George Ave']),\n",
       " ('oxford s st', ['S OXFORD ST', 'S Oxford St']),\n",
       " ('5th st', ['5TH ST', '5th St']),\n",
       " ('ave schieffelin', ['Schieffelin Ave', 'SCHIEFFELIN AVE']),\n",
       " ('harman st', ['HARMAN ST', 'Harman St']),\n",
       " ('ave putnam', ['Putnam Ave', 'PUTNAM AVE']),\n",
       " ('197th e st', ['E 197th St', 'E 197TH ST']),\n",
       " ('cumberland st', ['CUMBERLAND ST', 'Cumberland St']),\n",
       " ('mitchell pl', ['Mitchell Pl', 'MITCHELL PL']),\n",
       " ('alstyne ave', ['ALSTYNE  AVE', 'Alstyne Ave', 'ALSTYNE AVE']),\n",
       " ('ave laurel', ['Laurel Ave', 'LAUREL AVE']),\n",
       " ('50th st w', ['W 50th St', 'W 50TH ST']),\n",
       " ('102nd e st', ['E 102ND ST', 'E 102nd St']),\n",
       " ('ave bruner', ['Bruner Ave', 'BRUNER AVE']),\n",
       " ('lowerre pl', ['LOWERRE PL', 'Lowerre Pl']),\n",
       " ('ave willis', ['WILLIS AVE', 'Willis Ave']),\n",
       " ('ave strang', ['STRANG AVE', 'Strang Ave']),\n",
       " ('12th n st', ['N 12th St', 'N 12TH ST']),\n",
       " ('barclay st', ['Barclay St', 'BARCLAY ST']),\n",
       " ('200th st', ['200TH ST', '200th St']),\n",
       " ('monaco pl', ['MONACO PL', 'Monaco Pl']),\n",
       " ('41st rd', ['41st Rd', '41ST RD']),\n",
       " ('admiral ave', ['ADMIRAL AVE', 'Admiral Ave']),\n",
       " ('ave madison nb', ['N/B MADISON AVE', 'MADISON AVE (N/B) @']),\n",
       " ('hendrix st', ['Hendrix St', 'HENDRIX ST']),\n",
       " ('243rd st', ['243rd St', '243RD ST']),\n",
       " ('ford st', ['Ford St', 'FORD ST']),\n",
       " ('ellery st', ['ELLERY ST', 'Ellery St']),\n",
       " ('91st ave', ['91ST AVE', '91st Ave']),\n",
       " ('st william', ['WILLIAM ST', 'WILLIAM  ST', 'William St']),\n",
       " ('briar pl', ['BRIAR PL', 'Briar Pl']),\n",
       " ('malta st', ['Malta St', 'MALTA ST']),\n",
       " ('ave starling', ['STARLING AVE', 'Starling Ave']),\n",
       " ('ave reid', ['Reid Ave', 'REID AVE']),\n",
       " ('ave stratford', ['Stratford Ave', 'STRATFORD AVE']),\n",
       " ('ave waverly', ['WAVERLY AVE', 'Waverly Ave']),\n",
       " ('north st', ['North St', 'NORTH ST']),\n",
       " ('hall st', ['Hall St', 'HALL ST']),\n",
       " ('ave longfellow', ['LONGFELLOW AVE', 'Longfellow Ave']),\n",
       " ('autumn ave', ['AUTUMN AVE', 'AUTUMN  AVE', 'Autumn Ave']),\n",
       " ('159 st', ['159 ST', '159  ST']),\n",
       " ('ave cayuga', ['CAYUGA AVE', 'Cayuga Ave']),\n",
       " ('ave lincoln', ['LINCOLN AVE', 'Lincoln Ave']),\n",
       " ('ave soundview', ['SOUNDVIEW AVE', 'Soundview Ave']),\n",
       " ('127 co ne st', ['NE C/O 127 ST', 'N/E C/O 127 ST']),\n",
       " ('concourse grand sb',\n",
       "  ['GRAND CONCOURSE (S/B', 'SB GRAND CONCOURSE.', 'SB GRAND CONCOURSE @']),\n",
       " ('james st', ['ST JAMES ST', 'James St', 'ST JAMES']),\n",
       " ('ave n portland', ['N Portland Ave', 'N PORTLAND AVE']),\n",
       " ('ave flushing', ['FLUSHING AVE', 'Flushing Ave']),\n",
       " ('bellamy loop', ['Bellamy Loop', 'BELLAMY LOOP', 'BELLAMY LOOP.']),\n",
       " ('hoffman st', ['Hoffman St', 'HOFFMAN ST']),\n",
       " ('crotona pl', ['CROTONA PL', 'Crotona Pl']),\n",
       " ('ainslie st', ['Ainslie St', 'AINSLIE ST']),\n",
       " ('23rd st', ['23rd St', '23RD ST']),\n",
       " ('dorchester rd', ['DORCHESTER RD', 'Dorchester Rd']),\n",
       " ('ave vedder', ['VEDDER AVE', 'Vedder Ave']),\n",
       " ('saunders st', ['SAUNDERS ST', 'Saunders St']),\n",
       " ('blvd farmers', ['Farmers Blvd', 'FARMERS BLVD']),\n",
       " ('167th e st', ['E 167th St', 'E 167TH ST']),\n",
       " ('ave throop', ['THROOP AVE', 'Throop Ave']),\n",
       " ('ave varick', ['VARICK AVE', 'Varick Ave']),\n",
       " ('lefferts pl', ['LEFFERTS PL', 'Lefferts Pl']),\n",
       " ('181st e st', ['E 181ST ST', 'E 181st St']),\n",
       " ('ave townsend', ['Townsend Ave', 'TOWNSEND AVE']),\n",
       " ('danforth st', ['Danforth St', 'DANFORTH ST']),\n",
       " ('179th st w', ['W 179TH ST', 'W 179th St']),\n",
       " ('11th st', ['11th St', '11TH ST']),\n",
       " ('100th beach st', ['BEACH 100TH ST', 'Beach 100th St']),\n",
       " ('179th e st', ['E 179TH ST', 'E 179th St']),\n",
       " ('64th ave', ['64TH AVE', '64th Ave']),\n",
       " ('bay blvd cross', ['CROSS BAY BLVD', 'Cross Bay Blvd']),\n",
       " ('penrod st', ['PENROD ST', 'Penrod St']),\n",
       " ('147th st', ['147th St', '147TH ST']),\n",
       " ('ave pitkin', ['Pitkin Ave', 'PITKIN AVE']),\n",
       " ('ave bath', ['BATH  AVE', 'Bath Ave', 'BATH AVE']),\n",
       " ('ave homestead', ['Homestead Ave', 'HOMESTEAD AVE']),\n",
       " ('blvd northern', ['NORTHERN BLVD', 'Northern Blvd']),\n",
       " ('4th st w', ['W 4th St', 'W 4TH ST']),\n",
       " ('94 e st', ['E .94 ST', 'E 94 ST']),\n",
       " ('irwin st', ['IRWIN ST', 'Irwin St']),\n",
       " ('ave stillwell', ['Stillwell Ave', 'STILLWELL AVE']),\n",
       " ('pl raleigh', ['Raleigh Pl', 'RALEIGH PL']),\n",
       " ('44 st w', ['W 44 ST', 'W  44 ST']),\n",
       " ('burnet pl', ['Burnet Pl', 'BURNET PL']),\n",
       " ('ave pettit', ['Pettit Ave', 'PETTIT AVE']),\n",
       " ('noll st', ['NOLL ST', 'NOLL  ST', 'Noll St']),\n",
       " ('calloway st', ['CALLOWAY ST', 'Calloway St']),\n",
       " ('marks pl st', ['ST MARKS PL', 'St Marks Pl']),\n",
       " ('ave decatur',\n",
       "  ['DECATUR AVE', 'DECATUR AVE .', 'DECATUR  AVE', 'Decatur Ave']),\n",
       " ('ave underhill', ['UNDERHILL AVE', 'Underhill Ave']),\n",
       " ('oceania st', ['Oceania St', 'OCEANIA ST']),\n",
       " ('72nd st w', ['W 72nd St', 'W 72ND ST']),\n",
       " ('93rd e st', ['E 93rd St', 'E 93RD ST']),\n",
       " ('21st ave', ['21ST AVE', '21st Ave']),\n",
       " ('dr garland', ['Garland Dr', 'GARLAND DR']),\n",
       " ('ave mcclellan', ['MCCLELLAN AVE', 'Mcclellan Ave.']),\n",
       " ('north pelham pkwy', ['Pelham  Pkwy North', 'PELHAM PKWY NORTH']),\n",
       " ('rd woodrow', ['Woodrow Rd', 'WOODROW RD']),\n",
       " ('ave plainview', ['PLAINVIEW AVE', 'Plainview Ave']),\n",
       " ('100th e st', ['E 100th St', 'E 100TH ST']),\n",
       " ('pl sterling', ['Sterling Pl', 'STERLING PL', 'STERLING  PL']),\n",
       " ('jefferson st', ['Jefferson St', 'JEFFERSON ST']),\n",
       " ('albany st', ['Albany St', 'ALBANY ST', 'ALBANY  ST']),\n",
       " ('ave city island', ['CITY ISLAND AVE', 'City Island Ave']),\n",
       " ('33rd e st', ['E 33RD ST', 'E 33rd St']),\n",
       " ('ave mcgraw', ['MCGRAW AVE', 'McGraw Ave']),\n",
       " ('129 co st sw', ['S/W C/O 129 ST', 'SW C/O 129 ST']),\n",
       " ('ave seton', ['SETON AVE', 'Seton Ave']),\n",
       " ('neilson st', ['NEILSON  ST', 'NEILSON ST', 'Neilson St']),\n",
       " ('cedar st', ['CEDAR ST', 'Cedar St']),\n",
       " ('bronx east park', ['Bronx Park East', 'BRONX PARK EAST']),\n",
       " ('monument walk', ['Monument Walk', 'MONUMENT WALK']),\n",
       " ('ave cromwell', ['Cromwell Ave', 'CROMWELL AVE']),\n",
       " ('ave fort washington', ['Fort Washington Ave', 'FORT WASHINGTON AVE']),\n",
       " ('ave newport', ['Newport Ave', 'NEWPORT AVE']),\n",
       " ('ave blossom', ['BLOSSOM AVE', 'Blossom Ave']),\n",
       " ('ave bailey', ['Bailey Ave', 'BAILEY AVE']),\n",
       " ('ave cherry', ['Cherry Ave', 'CHERRY AVE']),\n",
       " ('ave zerega', ['Zerega Ave', 'ZEREGA AVE']),\n",
       " ('park prospect sw',\n",
       "  ['PROSPECT PARK S/W', 'PROSPECT PARK SW', 'Prospect Park SW']),\n",
       " ('blvd queens', ['QUEE,NS BLVD', 'QUEENS BLVD', 'Queens Blvd']),\n",
       " ('av coney es island', ['E/S CONEY ISLAND AV', 'E/S  CONEY ISLAND AV']),\n",
       " ('st whittier', ['WHITTIER  ST', 'WHITTIER ST', 'Whittier St']),\n",
       " ('baisley blvd', ['BAISLEY BLVD', 'Baisley Blvd']),\n",
       " ('88th e st', ['E 88th St', 'E 88TH ST']),\n",
       " ('73rd st w', ['W 73RD ST', 'W 73rd St']),\n",
       " ('24th st', ['24TH ST', '24th St']),\n",
       " ('79th st', ['79TH ST', '79th St']),\n",
       " ('duncan st', ['DUNCAN ST', 'Duncan St']),\n",
       " ('208th e st', ['E 208TH ST', 'E 208th St']),\n",
       " ('blvd brewer guy r', ['Guy R Brewer Blvd', 'GUY R BREWER BLVD']),\n",
       " ('50th e st', ['E 50TH ST', 'E 50th St']),\n",
       " ('ave claremont', ['CLAREMONT AVE', 'Claremont Ave']),\n",
       " ('24th e st', ['E 24th St', 'E 24TH ST']),\n",
       " ('ave metropolitan', ['METROPOLITAN AVE', 'Metropolitan Ave']),\n",
       " ('ave conduit s', ['S Conduit Ave', 'S CONDUIT AVE']),\n",
       " ('ave wellman', ['WELLMAN AVE', 'Wellman Ave']),\n",
       " ('haring st', ['HARING ST', 'Haring St']),\n",
       " ('55th st', ['55TH ST', '55th St']),\n",
       " ('125th st w', ['W 125TH ST', 'W 125th St']),\n",
       " ('ave jerome', ['Jerome Ave', 'JEROME  AVE', 'JEROME AVE']),\n",
       " ('st stanton', ['Stanton St', 'STANTON ST']),\n",
       " ('121st st w', ['W 121st St', 'W 121ST ST']),\n",
       " ('45th e st', ['E 45TH ST', 'E 45th St']),\n",
       " ('beaver st', ['BEAVER ST', 'Beaver St']),\n",
       " ('hill rd richmond',\n",
       "  ['Richmond Hill Rd', 'RICHMOND HILL  RD', 'RICHMOND HILL RD']),\n",
       " ('newel st', ['NEWEL ST', 'Newel St']),\n",
       " ('st wright', ['WRIGHT ST', 'Wright St']),\n",
       " ('co maran pl sw', ['S/W C/O MARAN PL', 'SW C/O MARAN PL']),\n",
       " ('195th e st', ['E 195TH ST', 'E 195th St']),\n",
       " ('ave pinehurst', ['PINEHURST AVE', 'Pinehurst Ave']),\n",
       " ('ave crosby', ['Crosby Ave', 'CROSBY AVE']),\n",
       " ('spring st', ['SPRING ST', 'Spring St']),\n",
       " ('beverley rd', ['BEVERLEY RD', 'Beverley Rd']),\n",
       " ('ave hollers', ['Hollers Ave', 'HOLLERS AVE']),\n",
       " ('blvd nb woodhaven', ['WOODHAVEN BLVD (N/B)', 'NB WOODHAVEN BLVD @']),\n",
       " ('st willoughby', ['Willoughby St', 'WILLOUGHBY ST']),\n",
       " ('east park terrace', ['PARK TERRACE EAST', 'Park Terrace East']),\n",
       " ('125 st w', ['W 125 ST', 'W 125  ST']),\n",
       " ('blvd cabrini', ['CABRINI  BLVD', 'Cabrini Blvd', 'CABRINI BLVD']),\n",
       " ('3rd pl', ['3RD PL', '3rd Pl']),\n",
       " ('ave c', ['AVE C', 'AVE  C']),\n",
       " ('avenue j', ['AVENUE J', 'Avenue J']),\n",
       " ('66th dr', ['66th Dr', '66TH DR']),\n",
       " ('38th st', ['38TH ST', '38th St']),\n",
       " ('fairview pl', ['FAIRVIEW PL', 'Fairview Pl']),\n",
       " ('carmel mount pl', ['Mount Carmel Pl', 'MOUNT CARMEL PL']),\n",
       " ('amador st', ['Amador St', 'AMADOR ST']),\n",
       " ('ave lafayette', ['LAFAYETTE  AVE', 'Lafayette Ave', 'LAFAYETTE AVE']),\n",
       " ('57th e st', ['E 57th St', 'E 57TH ST']),\n",
       " ('fulton st', ['FULTON ST', 'Fulton St', 'FULTON  ST']),\n",
       " ('7 e st', ['E  7 ST', 'E 7 ST']),\n",
       " ('brunt st van', ['Van Brunt St', 'VAN BRUNT ST']),\n",
       " ('67th e st', ['E 67TH ST', 'E 67th St']),\n",
       " ('boyland st thomas', ['THOMAS  BOYLAND ST', 'THOMAS BOYLAND ST']),\n",
       " ('havenwood rd', ['HAVENWOOD RD', 'Havenwood Rd']),\n",
       " ('ave woodruff', ['WOODRUFF AVE', 'Woodruff Ave']),\n",
       " ('ave major', ['MAJOR AVE', 'Major Ave']),\n",
       " ('178 e st', ['E 178 ST', 'E  178 ST']),\n",
       " ('moffat st', ['MOFFAT ST', 'Moffat St']),\n",
       " ('central grand pkwy', ['GRAND CENTRAL  PKWY', 'GRAND CENTRAL PKWY']),\n",
       " ('ave brush', ['BRUSH AVE', 'Brush Ave']),\n",
       " ('ave hill marble',\n",
       "  ['Marble Hill Ave', 'MARBLE HILL AVE.', 'MARBLE HILL AVE']),\n",
       " ('ave lurting', ['Lurting Ave', 'LURTING AVE']),\n",
       " ('86th ave', ['86th Ave', '86TH AVE']),\n",
       " ('162nd e st', ['E 162ND ST', 'E 162nd St']),\n",
       " ('st withers', ['WITHERS ST', 'Withers St']),\n",
       " ('pl washington', ['Washington Pl', 'WASHINGTON PL']),\n",
       " ('ave fountain', ['FOUNTAIN AVE', 'Fountain Ave']),\n",
       " ('pl rockwell', ['Rockwell Pl', 'ROCKWELL PL']),\n",
       " ('ct woodhaven', ['Woodhaven Ct', 'WOODHAVEN CT']),\n",
       " ('mazeau st', ['MAZEAU ST', 'Mazeau St']),\n",
       " ('bristow st', ['Bristow St', 'BRISTOW ST']),\n",
       " ('35th st w', ['W 35TH ST', 'W 35th St']),\n",
       " ('111th st', ['111TH ST', '111th St']),\n",
       " ('ave concord', ['CONCORD AVE', 'Concord Ave']),\n",
       " ('ave emmons', ['Emmons Ave', 'EMMONS AVE']),\n",
       " ('68th st', ['68TH ST', '68th St']),\n",
       " ('perry st', ['PERRY ST', 'Perry St']),\n",
       " ('av ocean', ['OCEAN AV .', 'OCEAN AV']),\n",
       " ('pike slip', ['PIKE SLIP', 'Pike Slip']),\n",
       " ('ave cauldwell', ['CAULDWELL AVE', 'Cauldwell Ave']),\n",
       " ('pineapple st', ['Pineapple St', 'PINEAPPLE ST']),\n",
       " ('seabring st', ['Seabring St', 'SEABRING ST']),\n",
       " ('lake rd silver', ['SILVER LAKE RD', 'Silver Lake Rd']),\n",
       " ('apex pl', ['APEX PL', 'Apex Pl']),\n",
       " ('rd shell', ['Shell Rd', 'SHELL RD']),\n",
       " ('1st st', ['1st St', '1ST ST']),\n",
       " ('ave engert', ['ENGERT AVE', 'Engert Ave']),\n",
       " ('28th ave', ['28th Ave', '28TH AVE']),\n",
       " ('218th e st', ['E 218th St', 'E 218TH ST']),\n",
       " ('ave remsen', ['Remsen Ave', 'REMSEN AVE']),\n",
       " ('19th st w', ['W 19th St', 'W 19TH ST']),\n",
       " ('72nd e st', ['E 72nd St', 'E 72ND ST']),\n",
       " ('ave roebling', ['Roebling Ave', 'ROEBLING AVE']),\n",
       " ('cleveland st', ['CLEVELAND ST', 'Cleveland St']),\n",
       " ('elliott n pl', ['N ELLIOTT PL', 'N Elliott Pl']),\n",
       " ('ave harrison', ['HARRISON AVE', 'Harrison Ave']),\n",
       " ('ave independence', ['Independence Ave', 'INDEPENDENCE AVE']),\n",
       " ('18 ave co se', ['S/E C/O 18 AVE', 'SE C/O 18 AVE']),\n",
       " ('ave nelson', ['NELSON  AVE', 'Nelson Ave', 'NELSON AVE']),\n",
       " ('ave k', ['AVE  K', 'AVE K']),\n",
       " ('ave wilcox', ['Wilcox Ave', 'WILCOX AVE']),\n",
       " ('carroll st', ['CARROLL ST', 'CARROLL  ST', 'Carroll St']),\n",
       " ('indian rd', ['Indian Rd', 'INDIAN RD']),\n",
       " ('heyward st', ['Heyward St', 'HEYWARD ST']),\n",
       " ('pl royce', ['ROYCE PL', 'Royce Pl']),\n",
       " ('ave bradley', ['BRADLEY AVE', 'Bradley Ave']),\n",
       " ('ave brighton', ['BRIGHTON AVE', 'Brighton Ave']),\n",
       " ('ave river', ['River Ave', 'RIVER  AVE', 'RIVER AVE']),\n",
       " ('172nd st w', ['W 172nd St', 'W 172ND ST']),\n",
       " ('33rd st', ['33rd St', '33RD ST']),\n",
       " ('ave melbourne', ['MELBOURNE AVE', 'Melbourne Ave']),\n",
       " ('70th st', ['70th St', '70TH ST']),\n",
       " ('147th st w', ['W 147th St', 'W 147TH ST']),\n",
       " ('76th st', ['76TH ST', '76th St']),\n",
       " ('78th st', ['78TH ST', '78th St']),\n",
       " ('blvd empire', ['EMPIRE BLVD .', 'Empire Blvd', 'EMPIRE BLVD']),\n",
       " ('24th ave', ['24TH AVE', '24th Ave']),\n",
       " ('187th e st', ['E 187TH ST', 'E 187th St']),\n",
       " ('orchard st', ['Orchard St', 'ORCHARD ST']),\n",
       " ('st state', ['State St', 'STATE ST']),\n",
       " ('18 st west', ['WEST 18 ST', 'WEST 18 ST+']),\n",
       " ('aguilar ave', ['AGUILAR AVE', 'Aguilar Ave']),\n",
       " ('40th st w', ['W 40th St', 'W 40TH ST']),\n",
       " ('ave depew', ['Depew Ave', 'DEPEW AVE']),\n",
       " ('avenue u', ['Avenue U', 'AVENUE U']),\n",
       " ('avenue i', ['Avenue I', 'AVENUE I']),\n",
       " ('pilot st', ['Pilot St', 'PILOT ST']),\n",
       " ('108th beach st', ['Beach 108th St', 'BEACH 108TH ST']),\n",
       " ('47th bay st', ['BAY 47TH ST', 'Bay 47th St']),\n",
       " ('kingsbridge ter', ['KINGSBRIDGE TER', 'Kingsbridge Ter']),\n",
       " ('ave ovington', ['Ovington Ave', 'OVINGTON  AVE', 'OVINGTON AVE']),\n",
       " ('ave norton', ['Norton Ave', 'NORTON AVE']),\n",
       " ('ave dongan', ['Dongan Ave', 'DONGAN AVE']),\n",
       " ('ave sampson', ['SAMPSON AVE', 'Sampson Ave']),\n",
       " ('ave ft washington', ['FT WASHINGTON AVE', 'Ft Washington Ave']),\n",
       " ('ave burchell', ['BURCHELL  AVE', 'Burchell Ave']),\n",
       " ('108 es st', ['E/S 108 ST', 'ES 108 ST']),\n",
       " ('84th rd', ['84th Rd', '84TH RD']),\n",
       " ('60th pl', ['60th Pl', '60TH PL']),\n",
       " ('atlantic ave co nw', ['NW C/O ATLANTIC AVE', 'N/W C/O ATLANTIC AVE']),\n",
       " ('ave bergen', ['Bergen Ave', 'BERGEN AVE']),\n",
       " ('ave tompkins', ['TOMPKINS AVE', 'Tompkins Ave']),\n",
       " ('locust st', ['Locust St', 'LOCUST ST']),\n",
       " ('118th e st', ['E 118th St', 'E 118TH ST']),\n",
       " ('42 st w', ['W 42 ST', 'W .42 ST']),\n",
       " ('st waltham', ['Waltham St', 'WALTHAM ST']),\n",
       " ('ave wilson', ['Wilson Ave', 'WILSON AVE.', 'WILSON AVE', 'WILSON  AVE']),\n",
       " ('ave bartow', ['BARTOW AVE', 'Bartow Ave']),\n",
       " ('57th st w', ['W 57TH ST', 'W 57th St']),\n",
       " ('morris st', ['Morris St', 'MORRIS ST']),\n",
       " ('ave rhinelander', ['Rhinelander Ave', 'RHINELANDER AVE']),\n",
       " ('adelphi st', ['ADELPHI ST', 'Adelphi St']),\n",
       " ('ave lots new', ['NEW LOTS AVE', 'New Lots Ave']),\n",
       " ('meserole st', ['Meserole St', 'MESEROLE ST']),\n",
       " ('rutgers slip', ['RUTGERS SLIP', 'Rutgers Slip']),\n",
       " ('ave larue', ['LARUE AVE', 'Larue Ave']),\n",
       " ('48 e plaza un', ['U.N. PLAZA E 48', 'UN PLAZA E 48', 'U.N.  PLAZA E 48']),\n",
       " ('19th beach st', ['BEACH 19TH ST', 'Beach 19th St']),\n",
       " ('ave hollis', ['HOLLIS AVE', 'Hollis Ave']),\n",
       " ('mckibben st', ['MCKIBBEN ST', 'McKibben St']),\n",
       " ('loon st van', ['VAN LOON ST', 'Van Loon St']),\n",
       " ('ave hillman', ['Hillman Ave', 'HILLMAN AVE']),\n",
       " ('ave livingston', ['Livingston Ave', 'LIVINGSTON AVE']),\n",
       " ('7th n st', ['N 7TH ST', 'N 7th St']),\n",
       " ('37th dr', ['37th Dr', '37TH DR']),\n",
       " ('ave blake', ['BLAKE AVE', 'Blake Ave']),\n",
       " ('17th e st', ['E 17TH ST', 'E 17th St', 'E 17TH  ST']),\n",
       " ('hicks st', ['Hicks St', 'HICKS ST']),\n",
       " ('69th e st', ['E 69th St', 'E 69TH ST']),\n",
       " ('ridge st', ['Ridge St', 'RIDGE ST']),\n",
       " ('ave roma', ['ROMA AVE', 'Roma Ave']),\n",
       " ('dr kenilworth', ['KENILWORTH DR', 'Kenilworth Dr']),\n",
       " ('46th st', ['46th St', '46TH ST']),\n",
       " ('8 st', ['8  ST', '8 ST']),\n",
       " ('drake st', ['DRAKE ST', 'Drake St']),\n",
       " ('india st', ['India St', 'INDIA ST']),\n",
       " ('34th st', ['34th St', '34TH ST']),\n",
       " ('43rd e st', ['E 43rd St', 'E 43RD  ST', 'E 43RD ST']),\n",
       " ('schaefer st', ['Schaefer St', 'SCHAEFER ST']),\n",
       " ('ave review', ['Review Ave', 'REVIEW AVE']),\n",
       " ('ave tratman', ['Tratman Ave', 'TRATMAN AVE']),\n",
       " ('149th e st', ['E 149TH ST', 'E 149TH  ST', 'E 149th St']),\n",
       " ('sq times', ['Times Sq', 'TIMES SQ']),\n",
       " ('ave waldo', ['WALDO AVE', 'Waldo Ave']),\n",
       " ('circle colombus', ['COLOMBUS  CIRCLE', 'COLOMBUS CIRCLE']),\n",
       " ('ave vanderbilt', ['Vanderbilt Ave', 'VANDERBILT AVE']),\n",
       " ('16th e st', ['E 16th St', 'E 16TH ST']),\n",
       " ('ave vernon', ['Vernon Ave', 'VERNON AVE']),\n",
       " ('169th e st', ['E 169TH ST', 'E 169th St']),\n",
       " ('baruch pl', ['BARUCH PL', 'Baruch Pl']),\n",
       " ('168th e st', ['E 168th St', 'E 168TH ST']),\n",
       " ('duzer st van', ['VAN DUZER ST', 'Van Duzer St']),\n",
       " ('melba st', ['Melba St', 'MELBA ST']),\n",
       " ('ave porter', ['Porter Ave', 'PORTER AVE']),\n",
       " ('10 ave', ['10 AVE', '10  AVE']),\n",
       " ('ave columbia', ['Columbia Ave', 'COLUMBIA AVE']),\n",
       " ('57th st', ['57TH ST', '57th St']),\n",
       " ('humboldt st', ['HUMBOLDT ST', 'Humboldt St']),\n",
       " ('ave mckinley', ['MCKINLEY AVE', 'McKinley Ave']),\n",
       " ('beadel st', ['BEADEL ST', 'Beadel St']),\n",
       " ('108th st', ['108th St', '108TH ST']),\n",
       " ('32nd e st', ['E 32nd St', 'E 32ND ST']),\n",
       " ('st tillary', ['Tillary St', 'TILLARY ST']),\n",
       " ('ave miller', ['MILLER AVE', 'Miller Ave']),\n",
       " ('edgewater rd', ['Edgewater Rd', 'EDGEWATER RD']),\n",
       " ('50 st', ['50 ST', '50  ST']),\n",
       " ('st w41', ['W41 ST', 'W.41 ST ST']),\n",
       " ('navy st', ['Navy St', 'NAVY ST']),\n",
       " ('37th rd', ['37th Rd', '37TH RD']),\n",
       " ('butler pl', ['Butler Pl', 'BUTLER PL']),\n",
       " ('2nd ave', ['2ND AVE', '2nd Ave']),\n",
       " ('ave poplar', ['POPLAR AVE', 'Poplar Ave']),\n",
       " ('bay st', ['Bay St', 'BAY ST']),\n",
       " ('astor ave', ['Astor Ave', 'ASTOR AVE']),\n",
       " ('pike st', ['PIKE ST', 'Pike St']),\n",
       " ('140th st', ['140TH ST', '140th St']),\n",
       " ('ave cozine', ['Cozine Ave', 'COZINE AVE']),\n",
       " ('95th st w', ['W 95TH ST', 'W 95th St']),\n",
       " ('19th ave', ['19th Ave', '19TH AVE']),\n",
       " ('lorraine st', ['LORRAINE ST', 'Lorraine St']),\n",
       " ('150th st', ['150th St', '150TH ST']),\n",
       " ('93rd st w', ['W 93rd St', 'W 93RD ST']),\n",
       " ('bedford st', ['BEDFORD ST', 'Bedford St']),\n",
       " ('newtown rd', ['NEWTOWN RD', 'Newtown Rd']),\n",
       " ('ave conklin', ['CONKLIN AVE', 'Conklin Ave']),\n",
       " ('ave gildersleeve', ['GILDERSLEEVE AVE', 'Gildersleeve Ave']),\n",
       " ('glen st', ['Glen St', 'GLEN ST']),\n",
       " ('blvd louis nine', ['Louis Nine Blvd', 'LOUIS NINE BLVD']),\n",
       " ('ave barnes', ['BARNES AVE', 'Barnes Ave']),\n",
       " ('downing st', ['Downing St', 'DOWNING ST']),\n",
       " ('ave henderson', ['HENDERSON AVE', 'Henderson Ave']),\n",
       " ('austin st', ['Austin St', 'AUSTIN ST']),\n",
       " ('elk st', ['ELK ST', 'Elk St']),\n",
       " ('ave parkville', ['Parkville Ave', 'PARKVILLE AVE']),\n",
       " ('30th st w', ['W 30TH ST', 'W 30th St']),\n",
       " ('ave harway', ['HARWAY AVE', 'Harway Ave']),\n",
       " ('corbin pl', ['Corbin Pl', 'CORBIN PL']),\n",
       " ('overing st', ['OVERING ST', 'Overing St']),\n",
       " ('ave kingsland', ['Kingsland Ave', 'KINGSLAND AVE']),\n",
       " ('dr radio', ['Radio Dr', 'RADIO DR']),\n",
       " ('39th w', ['W  39TH', 'W 39TH']),\n",
       " ('ave baisley', ['Baisley Ave', 'BAISLEY AVE']),\n",
       " ('bank st', ['BANK ST', 'Bank St']),\n",
       " ('ave liberty', ['LIBERTY AVE', 'Liberty Ave']),\n",
       " ('ave powell', ['POWELL AVE', 'Powell Ave']),\n",
       " ('ave grandview', ['GRANDVIEW AVE', 'Grandview Ave']),\n",
       " ('clove rd', ['CLOVE RD', 'Clove Rd']),\n",
       " ('ave lanett', ['LANETT AVE', 'Lanett Ave']),\n",
       " ('guerlain st', ['Guerlain St', 'GUERLAIN ST']),\n",
       " ('45th st w', ['W 45TH ST', 'W 45th St']),\n",
       " ('blvd woodhaven', ['WOODHAVEN BLVD', 'Woodhaven Blvd']),\n",
       " ('172nd st', ['172ND ST', '172nd St']),\n",
       " ('ave orient', ['ORIENT AVE', 'Orient Ave']),\n",
       " ('15th e st', ['E 15TH ST', 'E 15th St']),\n",
       " ('ave haven', ['Haven Ave', 'HAVEN AVE']),\n",
       " ('crotona park', ['Crotona Park', 'CROTONA PARK']),\n",
       " ('ave braddock', ['BRADDOCK AVE', 'Braddock Ave']),\n",
       " ('boerum st', ['BOERUM ST', 'Boerum St']),\n",
       " ('40th rd', ['40TH RD', '40th Rd']),\n",
       " ('halsey st', ['HALSEY ST', 'Halsey St']),\n",
       " ('ave rockville', ['ROCKVILLE AVE', 'Rockville Ave']),\n",
       " ('farms rd west', ['WEST FARMS RD', 'West Farms RD']),\n",
       " ('18th st w', ['W 18TH ST', 'W 18th St']),\n",
       " ('featherbed lane', ['FEATHERBED  LANE', 'FEATHERBED LANE']),\n",
       " ('ave edison', ['EDISON AVE', 'Edison Ave']),\n",
       " ('ave ridgewood', ['Ridgewood Ave', 'RIDGEWOOD AVE']),\n",
       " ('montgomery st', ['MONTGOMERY  ST', 'Montgomery St', 'MONTGOMERY ST']),\n",
       " ('blvd gansevoort', ['Gansevoort Blvd', 'GANSEVOORT BLVD']),\n",
       " ('fieldstone rd', ['FIELDSTONE RD', 'Fieldstone Rd']),\n",
       " ('fulton street', ['FULTON STREET', 'FULTON  STREET']),\n",
       " ('arthur kill rd', ['ARTHUR  KILL RD', 'ARTHUR KILL RD', 'Arthur Kill Rd']),\n",
       " ('ave martense', ['MARTENSE AVE', 'Martense Ave']),\n",
       " ('forest hill rd', ['Forest Hill Rd', 'FOREST HILL RD']),\n",
       " ('dwight st', ['DWIGHT ST', 'Dwight St']),\n",
       " ('ave hamilton', ['Hamilton Ave', 'HAMILTON AVE']),\n",
       " ('ave scott', ['Scott Ave', 'SCOTT AVE']),\n",
       " ('st suydam', ['Suydam St', 'SUYDAM ST']),\n",
       " ('st zoe', ['ZOE ST', 'Zoe St']),\n",
       " ('ave booth memorial',\n",
       "  ['BOOTH MEMORIAL AVE (', 'Booth Memorial Ave', 'BOOTH MEMORIAL AVE']),\n",
       " ('butler st', ['BUTLER ST', 'Butler St']),\n",
       " ('ave myrtle', ['MYRTLE AVE', 'Myrtle Ave']),\n",
       " ('ave miles', ['Miles Ave', 'MILES AVE']),\n",
       " ('ave sheffield', ['Sheffield Ave', 'SHEFFIELD AVE', 'SHEFFIELD  AVE']),\n",
       " ('bethel loop', ['BETHEL LOOP', 'Bethel Loop']),\n",
       " ('ave bennett', ['BENNETT AVE', 'Bennett Ave']),\n",
       " ('blvd cloverdale',\n",
       "  ['Cloverdale Blvd', 'CLOVERDALE BLVD', 'CLOVERDALE  BLVD']),\n",
       " ('park st', ['Park St', 'PARK ST']),\n",
       " ('ave eva', ['Eva Ave', 'EVA AVE']),\n",
       " ('ave classon', ['Classon Ave', 'CLASSON AVE']),\n",
       " ('pitt st', ['PITT ST', 'Pitt St']),\n",
       " ('ave buhre', ['Buhre Ave', 'BUHRE AVE']),\n",
       " ('64th ln', ['64th Ln', '64TH LN']),\n",
       " ('horatio st', ['HORATIO ST', 'Horatio St']),\n",
       " ('north plaza queens', ['QUEENS PLAZA NORTH', 'Queens Plaza North']),\n",
       " ('chauncey st', ['CHAUNCEY ST', 'Chauncey St']),\n",
       " ('ave paerdegat', ['PAERDEGAT AVE', 'Paerdegat Ave']),\n",
       " ('ave dyer', ['DYER AVE', 'Dyer Ave']),\n",
       " ('elizabeth st', ['Elizabeth St', 'ELIZABETH ST']),\n",
       " ('ave york', ['YORK AVE', 'York Ave']),\n",
       " ('90th ave', ['90th Ave', '90TH AVE']),\n",
       " ('cadman east plaza', ['Cadman Plaza  East', 'CADMAN PLAZA EAST']),\n",
       " ('ave kingsbridge', ['Kingsbridge Ave', 'KINGSBRIDGE AVE']),\n",
       " ('ave willow', ['Willow Ave', 'WILLOW AVE']),\n",
       " ('rd westminster', ['Westminster Rd', 'WESTMINSTER RD']),\n",
       " ('42nd st w', ['W 42ND ST', 'W 42nd St']),\n",
       " ('rockne st', ['Rockne St', 'ROCKNE ST']),\n",
       " ('st summit', ['SUMMIT ST', 'Summit St']),\n",
       " ('ave hoyt north', ['HOYT  AVE NORTH', 'Hoyt Ave North', 'HOYT AVE NORTH']),\n",
       " ('ave olinville', ['OLINVILLE AVE', 'Olinville Ave']),\n",
       " ('halleck st', ['Halleck St', 'HALLECK ST']),\n",
       " ('ludlow st', ['LUDLOW ST', 'Ludlow St']),\n",
       " ('minna st', ['Minna St', 'MINNA ST']),\n",
       " ('ave farragut', ['FARRAGUT AVE', 'Farragut Ave']),\n",
       " ('father pl zeiser', ['Father Zeiser Pl', 'FATHER ZEISER PL']),\n",
       " ('st stanwix', ['Stanwix St', 'STANWIX ST']),\n",
       " ('hamilton pl', ['HAMILTON PL', 'Hamilton Pl']),\n",
       " ('johns plc st', ['ST JOHNS  PLC', 'ST JOHNS PLC']),\n",
       " ('johns pl st',\n",
       "  ['ST . JOHNS PL',\n",
       "   'ST JOHNS PL',\n",
       "   'ST  JOHNS PL',\n",
       "   'ST .JOHNS PL',\n",
       "   'St Johns Pl']),\n",
       " ('rivington st', ['RIVINGTON ST', 'Rivington St']),\n",
       " ('ash ave', ['Ash Ave', 'ASH AVE']),\n",
       " ('russell st', ['RUSSELL ST', 'Russell St']),\n",
       " ('hannah st', ['Hannah St', 'HANNAH ST']),\n",
       " ('hoyt st', ['Hoyt St', 'HOYT ST', 'HOYT  ST']),\n",
       " ('29th st w', ['W 29TH ST', 'W 29th St']),\n",
       " ('ave fenton', ['Fenton Ave', 'FENTON AVE']),\n",
       " ('14 ave co ne', ['N/E C/O 14 AVE', 'C/O N/E 14 AVE']),\n",
       " ('moreland st', ['Moreland St', 'MORELAND ST']),\n",
       " ('st stockton', ['STOCKTON ST', 'Stockton St']),\n",
       " ('knapp st', ['Knapp St', 'KNAPP ST']),\n",
       " ('cortelyou rd', ['CORTELYOU RD', 'Cortelyou Rd']),\n",
       " ('ave dumont', ['DUMONT AVE', 'Dumont Ave']),\n",
       " ('ave h', ['AVE H', 'H AVE']),\n",
       " ('174th e st', ['E 174TH ST', 'E 174th St']),\n",
       " ('9th n st', ['N 9TH ST', 'N 9th St']),\n",
       " ('st victor', ['Victor St', 'VICTOR ST']),\n",
       " ('cameron ct', ['CAMERON CT', 'Cameron Ct']),\n",
       " ('8th st w', ['W 8TH ST', 'W 8th St']),\n",
       " ('176th st w', ['W 176TH ST', 'W 176th St']),\n",
       " ('ave seagate', ['Seagate Ave', 'SEAGATE AVE']),\n",
       " ('104th st', ['104TH ST', '104th St']),\n",
       " ('allen st', ['ALLEN ST', 'Allen St']),\n",
       " ('ave neill', ['Neill Ave', 'NEILL AVE']),\n",
       " ('ave railroad', ['Railroad Ave', 'RAILROAD AVE']),\n",
       " ('rd rutland', ['RUTLAND RD', 'RUTLAND  RD', 'Rutland Rd']),\n",
       " ('blvd hill laurel', ['LAUREL HILL BLVD', 'Laurel Hill Blvd']),\n",
       " ('jackson pl', ['JACKSON PL', 'Jackson Pl']),\n",
       " ('bay pky', ['Bay Pky', 'BAY PKY']),\n",
       " ('linden st', ['Linden St', 'LINDEN ST']),\n",
       " ('36th e st', ['E 36th St', 'E 36TH ST']),\n",
       " ('59th e st', ['E 59TH ST', 'E 59th St']),\n",
       " ('169th st', ['169TH ST', '169th St']),\n",
       " ('ave terrace view', ['Terrace View Ave', 'TERRACE VIEW AVE']),\n",
       " ('ave gunther', ['GUNTHER AVE', 'Gunther Ave']),\n",
       " ('82nd rd', ['82nd Rd', '82ND RD']),\n",
       " ('ave mill', ['MILL AVE', 'Mill Ave']),\n",
       " ('donough mac st', ['Mac Donough St', 'MAC DONOUGH ST']),\n",
       " ('bergen st', ['BERGEN ST', 'Bergen St', 'BERGEN  ST']),\n",
       " ('ave weeks', ['WEEKS AVE', 'Weeks Ave']),\n",
       " ('ave douglas', ['DOUGLAS AVE', 'Douglas Ave']),\n",
       " ('63rd rd', ['63RD RD', '63rd Rd']),\n",
       " ('ave highlawn', ['HIGHLAWN AVE', 'Highlawn Ave']),\n",
       " ('sickles st', ['Sickles St', 'SICKLES ST']),\n",
       " ('gleane st', ['GLEANE ST', 'Gleane St']),\n",
       " ('ave havemeyer', ['HAVEMEYER AVE', 'Havemeyer Ave']),\n",
       " ('ave christie', ['Christie Ave', 'CHRISTIE AVE']),\n",
       " ('ave sherman', ['SHERMAN AVE', 'Sherman Ave']),\n",
       " ('128th e st', ['E 128TH ST', 'E 128th St', 'E 128TH  ST']),\n",
       " ('ave harrington', ['HARRINGTON AVE', 'Harrington Ave']),\n",
       " ('ave new utrecht',\n",
       "  ['NEW UTRECHT AVE', 'New Utrecht Ave', 'NEW UTRECHT  AVE']),\n",
       " ('milton st', ['Milton St', 'MILTON ST']),\n",
       " ('8th ave', ['8TH  AVE', '8th Ave', '8TH AVE']),\n",
       " ('kimberly pl', ['Kimberly Pl', 'KIMBERLY PL']),\n",
       " ('220th e st', ['E 220th St', 'E 220TH ST']),\n",
       " ('ave carter', ['Carter Ave', 'CARTER AVE']),\n",
       " ('nicholas st', ['ST NICHOLAS', 'Nicholas St']),\n",
       " ('park terrace west', ['PARK TERRACE WEST', 'Park Terrace West']),\n",
       " ('ave montauk', ['Montauk Ave', 'MONTAUK AVE']),\n",
       " ('ave balcom', ['BALCOM AVE', 'Balcom Ave']),\n",
       " ('98 es st', ['E/S 98 ST', 'ES 98 ST']),\n",
       " ('89th e st', ['E 89TH ST', 'E 89th St']),\n",
       " ('229th e st', ['E 229TH ST', 'E 229th St']),\n",
       " ('ave palmer', ['PALMER AVE', 'Palmer Ave']),\n",
       " ('183rd e st', ['E 183rd St', 'E 183RD ST']),\n",
       " ('26th e st', ['E 26TH  ST', 'E 26th St', 'E 26TH ST']),\n",
       " ('110th st w', ['W 110TH ST', 'W 110th St']),\n",
       " ('56th e st', ['E 56TH ST', 'E 56th St']),\n",
       " ('75th st w', ['W 75TH ST', 'W 75th St']),\n",
       " ('rd station', ['Station Rd', 'STATION RD']),\n",
       " ('11th ave', ['11th Ave', '11TH AVE']),\n",
       " ('ft hamilton pky', ['FT HAMILTON PKY', 'Ft Hamilton Pky']),\n",
       " ('69th pl', ['69th Pl', '69TH PL']),\n",
       " ('enfield pl', ['ENFIELD PL', 'Enfield Pl']),\n",
       " ('hausman st', ['Hausman St', 'HAUSMAN ST']),\n",
       " ('17th beach st', ['Beach 17th St', 'BEACH 17TH ST']),\n",
       " ('amity st', ['AMITY ST', 'Amity St']),\n",
       " ('gatling pl', ['Gatling Pl', 'GATLING PL']),\n",
       " ('st willmohr', ['WILLMOHR ST', 'Willmohr St']),\n",
       " ('220th st', ['220TH ST', '220th St']),\n",
       " ('liverpool st', ['Liverpool St', 'LIVERPOOL ST']),\n",
       " ('ave viele', ['VIELE AVE', 'Viele Ave']),\n",
       " ('170th st', ['170TH ST', '170th St']),\n",
       " ('pilling st', ['Pilling St', 'PILLING ST']),\n",
       " ('ave ny', ['NY  AVE', 'NY AVE']),\n",
       " ('debevoise st', ['DEBEVOISE ST', 'Debevoise St']),\n",
       " ('167 st w', ['W .167 ST', 'W 167 ST']),\n",
       " ('fieldston rd', ['FIELDSTON RD', 'Fieldston Rd']),\n",
       " ('parkside pl', ['PARKSIDE PL', 'Parkside Pl']),\n",
       " ('ave kent', ['KENT AVE', 'Kent Ave']),\n",
       " ('ct hurley', ['HURLEY CT', 'Hurley Ct']),\n",
       " ('rd rugby', ['Rugby Rd', 'RUGBY RD']),\n",
       " ('beach st', ['BEACH ST', 'Beach St']),\n",
       " ('arlington pl', ['ARLINGTON PL', 'Arlington Pl']),\n",
       " ('eastern pkwy', ['EASTERN PKWY', 'EASTERN  PKWY']),\n",
       " ('ave siclen van', ['Van Siclen Ave', 'VAN SICLEN AVE', 'VAN SICLEN  AVE']),\n",
       " ('midwood st', ['Midwood St', 'MIDWOOD ST']),\n",
       " ('macdonough', ['MACDONOUGH', 'Macdonough']),\n",
       " ('e fordham rd', ['E Fordham Rd', 'E FORDHAM RD']),\n",
       " ('arlington terrace', ['Arlington Terrace', 'ARLINGTON TERRACE']),\n",
       " ('83rd ave', ['83rd Ave', '83RD AVE']),\n",
       " ('ave stadium', ['STADIUM AVE', 'Stadium Ave']),\n",
       " ('ave burnside e', ['E Burnside Ave', 'E BURNSIDE AVE']),\n",
       " ('ave morrison', ['MORRISON AVE', 'Morrison Ave']),\n",
       " ('chester st', ['CHESTER ST', 'Chester St']),\n",
       " ('pl schiefflin', ['Schiefflin Pl', 'SCHIEFFLIN PL']),\n",
       " ('ave edson', ['Edson Ave', 'EDSON AVE']),\n",
       " ('17th st w', ['W 17TH ST', 'W 17th St']),\n",
       " ('lewiston st', ['LEWISTON ST', 'Lewiston St']),\n",
       " ('central park west',\n",
       "  ['Central Park West',\n",
       "   'CENTRAL PARK  WEST',\n",
       "   'CENTRAL PARK WEST',\n",
       "   'Central Park West.']),\n",
       " ('71st st', ['71st St', '71ST ST']),\n",
       " ('ave narrows', ['NARROWS AVE', 'Narrows Ave']),\n",
       " ('110th st', ['110th St', '110TH ST']),\n",
       " ('plaza street west', ['Plaza Street West', 'PLAZA STREET WEST']),\n",
       " ('dr regis', ['Regis Dr', 'REGIS DR']),\n",
       " ('ave catalpa', ['CATALPA AVE', 'Catalpa Ave']),\n",
       " ('blvd kissena', ['Kissena Blvd', 'KISSENA BLVD']),\n",
       " ('135th st w', ['W 135TH ST', 'W 135th St']),\n",
       " ('bedford co', ['C/O  BEDFORD', 'C/O BEDFORD']),\n",
       " ('124th pl', ['124TH PL', '124th Pl']),\n",
       " ('ave euclid', ['EUCLID AVE', 'Euclid Ave']),\n",
       " ('75th ave', ['75th Ave', '75TH AVE']),\n",
       " ('es market slip', ['E/S MARKET SLIP', 'E/S  MARKET SLIP']),\n",
       " ('dominick st', ['Dominick St', 'DOMINICK ST']),\n",
       " ('ave holland', ['HOLLAND AVE', 'Holland Ave']),\n",
       " ('blvd center', ['Center Blvd', 'CENTER BLVD']),\n",
       " ('ave gurley', ['GURLEY AVE', 'Gurley Ave']),\n",
       " ('smith st', ['SMITH ST', 'Smith St']),\n",
       " ('ave union', ['UNION  AVE', 'Union Ave', 'UNION AVE']),\n",
       " ('ave eagle', ['Eagle Ave', 'EAGLE AVE']),\n",
       " ('87th rd', ['87TH RD', '87th Rd']),\n",
       " ('ave sterling', ['Sterling Ave', 'STERLING AVE']),\n",
       " ('ave creston', ['Creston Ave', 'CRESTON AVE']),\n",
       " ('devoe st', ['DEVOE ST', 'Devoe St']),\n",
       " ('kane st', ['Kane St', 'KANE ST']),\n",
       " ('ave greene', ['GREENE AVE', 'Greene Ave']),\n",
       " ('ave nassau', ['Nassau Ave', 'NASSAU AVE']),\n",
       " ('82nd st', ['82nd St', '82ND ST']),\n",
       " ('115th e st', ['E 115th St', 'E 115TH ST']),\n",
       " ('catherine slip', ['Catherine Slip', 'CATHERINE SLIP']),\n",
       " ('rd shore', ['SHORE RD', 'Shore Rd']),\n",
       " ('hooper st', ['HOOPER ST', 'Hooper St']),\n",
       " ('ave blackrock', ['Blackrock Ave', 'BLACKROCK AVE']),\n",
       " ('ave dix', ['DIX AVE', 'Dix Ave']),\n",
       " ('ave sunnyside', ['SUNNYSIDE AVE', 'Sunnyside Ave']),\n",
       " ('ave howard', ['Howard Ave', 'HOWARD AVE']),\n",
       " ('ave parkside', ['PARKSIDE AVE', 'Parkside Ave']),\n",
       " ('7th e st', ['E 7th St', 'E 7TH ST']),\n",
       " ('ave mickle', ['MICKLE AVE', 'Mickle Ave']),\n",
       " ('ave beach', ['BEACH  AVE', 'BEACH AVE', 'Beach Ave']),\n",
       " ('205th e st', ['E 205TH ST', 'E 205th St']),\n",
       " ('ave veterans', ['Veterans Ave', 'VETERANS AVE']),\n",
       " ('2nd e st', ['E 2ND ST', 'E 2nd St']),\n",
       " ('ave virginia', ['VIRGINIA AVE', 'Virginia Ave']),\n",
       " ('29th ave', ['29TH AVE', '29th Ave']),\n",
       " ('62nd st', ['62nd St', '62ND ST']),\n",
       " ('st warren', ['WARREN ST', 'Warren St']),\n",
       " ('ave norwood', ['NORWOOD AVE', 'Norwood Ave']),\n",
       " ('craven st', ['Craven St', 'CRAVEN ST']),\n",
       " ('ave inwood', ['INWOOD AVE', 'Inwood Ave']),\n",
       " ('25th st', ['25TH ST', '25th St']),\n",
       " ('ave maspeth', ['Maspeth Ave', 'MASPETH AVE']),\n",
       " ('164th e st', ['E 164th St', 'E 164TH ST']),\n",
       " ('ave shakespeare', ['SHAKESPEARE AVE', 'Shakespeare Ave']),\n",
       " ('48th e st', ['E 48TH ST', 'E 48th St']),\n",
       " ('46th rd', ['46TH RD', '46th Rd']),\n",
       " ('pinegrove st', ['PINEGROVE ST', 'Pinegrove St']),\n",
       " ('ave onderdonk', ['Onderdonk Ave', 'ONDERDONK AVE']),\n",
       " ('92nd st w', ['W 92nd St', 'W 92ND ST']),\n",
       " ('exeter st', ['Exeter St', 'EXETER ST']),\n",
       " ('29th st', ['29TH ST', '29th St']),\n",
       " ('111th st w', ['W 111th St', 'W 111TH ST']),\n",
       " ('ave darlington', ['Darlington Ave', 'DARLINGTON AVE']),\n",
       " ('skillman st', ['SKILLMAN ST', 'Skillman St']),\n",
       " ('193rd st', ['193RD ST', '193rd St']),\n",
       " ('ave netherland', ['NETHERLAND AVE', 'Netherland Ave']),\n",
       " ('banker st', ['BANKER ST', 'Banker St', 'BANKER  ST']),\n",
       " ('18th e st', ['E 18TH ST', 'E 18th St']),\n",
       " ('oliver pl', ['Oliver Pl', 'OLIVER PL']),\n",
       " ('livingston st', ['LIVINGSTON  ST', 'LIVINGSTON ST', 'Livingston St']),\n",
       " ('89th ave', ['89TH AVE', '89th Ave']),\n",
       " ('ave barker', ['BARKER AVE', 'Barker Ave']),\n",
       " ('125th st', ['125th St', '125TH ST']),\n",
       " ('ave sheldon', ['Sheldon Ave', 'SHELDON AVE']),\n",
       " ('47th st w', ['W 47TH ST', 'W 47th St']),\n",
       " ('rd richmond', ['RICHMOND RD', 'Richmond Rd']),\n",
       " ('rd veterans', ['Veterans Rd', 'VETERANS RD']),\n",
       " ('ave roberts', ['Roberts Ave', 'ROBERTS AVE']),\n",
       " ('antin pl', ['ANTIN PL', 'Antin Pl']),\n",
       " ('broadway', ['Broadway', 'BROADWAY']),\n",
       " ('ave wallace', ['WALLACE AVE', 'Wallace Ave']),\n",
       " ('238th st w', ['W 238TH ST', 'W 238th St']),\n",
       " ('72nd st', ['72ND ST', '72nd St']),\n",
       " ('clara st', ['CLARA ST', 'Clara St']),\n",
       " ('adee ave', ['ADEE  AVE', 'Adee Ave', 'ADEE AVE']),\n",
       " ('lorillard pl', ['LORILLARD PL', 'Lorillard Pl']),\n",
       " ('ave brighton w', ['W Brighton Ave', 'W BRIGHTON AVE']),\n",
       " ('162nd st w', ['W 162nd St', 'W 162ND ST']),\n",
       " ('ave boller', ['BOLLER AVE', 'Boller Ave']),\n",
       " ('ave irving', ['IRVING AVE', 'Irving Ave', 'IRVING  AVE']),\n",
       " ('gipson st', ['GIPSON ST', 'Gipson St']),\n",
       " ('99 street', ['99 STREET', '99  STREET']),\n",
       " ('ave rochambeau', ['Rochambeau Ave', 'ROCHAMBEAU AVE']),\n",
       " ('st york', ['York St', 'YORK ST']),\n",
       " ('gerber pl', ['GERBER PL', 'Gerber Pl']),\n",
       " ('ave surf', ['Surf Ave', 'SURF AVE']),\n",
       " ('aqueduct ave', ['Aqueduct Ave', 'AQUEDUCT AVE']),\n",
       " ('church st', ['CHURCH ST', 'Church St', 'ST CHURCH ST']),\n",
       " ('106th e st', ['E 106TH ST', 'E 106th St']),\n",
       " ('190th st w', ['W 190TH ST', 'W 190th St']),\n",
       " ('138th st w', ['W 138th St', 'W 138TH ST']),\n",
       " ('gerry st', ['GERRY ST', 'Gerry St']),\n",
       " ('8th st', ['8th St', '8TH ST']),\n",
       " ('47th ave', ['47TH AVE', '47th Ave']),\n",
       " ('36th st w', ['W 36TH ST', 'W 36th St']),\n",
       " ('77th st w', ['W 77th St', 'W 77TH ST']),\n",
       " ('atkins ave', ['Atkins Ave', 'ATKINS AVE']),\n",
       " ('ave mohegan', ['Mohegan Ave', 'MOHEGAN AVE']),\n",
       " ('137th st w', ['W 137th St', 'W 137TH ST']),\n",
       " ('ave manhattan', ['Manhattan Ave', 'MANHATTAN AVE']),\n",
       " ('ave ross', ['Ross Ave', 'ROSS AVE']),\n",
       " ('st washington', ['WASHINGTON ST', 'Washington St']),\n",
       " ('30 w', ['W 30', 'W .30']),\n",
       " ('ave church', ['CHURCH  AVE', 'Church Ave', 'CHURCH AVE']),\n",
       " ('144 st w', ['W .144 ST', 'W 144 ST']),\n",
       " ('ave banner', ['BANNER AVE', 'Banner Ave']),\n",
       " ('ave gleason', ['GLEASON AVE', 'Gleason Ave']),\n",
       " ('avenue t', ['AVENUE T', 'Avenue T']),\n",
       " ('212th st', ['212TH ST', '212th St']),\n",
       " ('court sq', ['COURT SQ', 'Court Sq']),\n",
       " ('ave hoover', ['HOOVER AVE', 'Hoover Ave']),\n",
       " ('pl sullivan', ['Sullivan Pl', 'SULLIVAN PL']),\n",
       " ('4 south', ['SOUTH  4', 'SOUTH 4']),\n",
       " ('hewes st', ['HEWES ST', 'Hewes St']),\n",
       " ('ave birchall', ['Birchall Ave', 'BIRCHALL AVE']),\n",
       " ('ave dahlia', ['Dahlia Ave', 'DAHLIA AVE']),\n",
       " ('portal st', ['Portal St', 'PORTAL ST']),\n",
       " ('pl seton', ['Seton Pl', 'SETON PL']),\n",
       " ('ave brook', ['BROOK AVE', 'Brook Ave']),\n",
       " ('roxbury st', ['ROXBURY ST', 'Roxbury St']),\n",
       " ('5 ave', ['5 AVE', '5  AVE']),\n",
       " ('ave howard ws', ['W/S HOWARD AVE', 'W/S  HOWARD AVE']),\n",
       " ('ave paidge', ['Paidge Ave', 'PAIDGE AVE']),\n",
       " ('bloomingdale rd', ['BLOOMINGDALE RD', 'Bloomingdale Rd']),\n",
       " ('pl tiemann', ['Tiemann Pl', 'TIEMANN PL']),\n",
       " ('freeport loop', ['FREEPORT LOOP', 'Freeport Loop']),\n",
       " ('ln maiden', ['MAIDEN LN', 'Maiden Ln']),\n",
       " ('27th st w', ['W 27TH ST', 'W 27th St']),\n",
       " ('linwood st', ['Linwood St', 'LINWOOD ST']),\n",
       " ('ave schiefflin', ['SCHIEFFLIN AVE .', 'SCHIEFFLIN AVE']),\n",
       " ('nevins st', ['Nevins St', 'NEVINS ST']),\n",
       " ('ave saratoga', ['Saratoga Ave', 'SARATOGA AVE']),\n",
       " ('eastern pky', ['EASTERN PKY', 'Eastern Pky']),\n",
       " ('ave valles', ['Valles Ave', 'VALLES AVE']),\n",
       " ('beekman st', ['Beekman St', 'BEEKMAN ST']),\n",
       " ('eyck ten walk', ['Ten Eyck Walk', 'TEN EYCK WALK']),\n",
       " ('28th st', ['28TH ST', '28th St']),\n",
       " ('ave spencer', ['Spencer Ave', 'SPENCER AVE']),\n",
       " ('ave pratt', ['Pratt Ave', 'PRATT AVE']),\n",
       " ('ave tillotson', ['Tillotson Ave', 'TILLOTSON AVE']),\n",
       " ('dr essex', ['Essex Dr', 'ESSEX DR']),\n",
       " ('dash pl', ['Dash Pl', 'DASH PL']),\n",
       " ('amber st', ['AMBER ST', 'Amber St']),\n",
       " ('ave mangin', ['MANGIN AVE', 'Mangin Ave']),\n",
       " ('ave thomson', ['Thomson Ave', 'THOMSON AVE']),\n",
       " ('ave irwin', ['IRWIN AVE', 'Irwin Ave']),\n",
       " ('ave skillman', ['SKILLMAN AVE', 'Skillman Ave']),\n",
       " ('ave lafontaine', ['Lafontaine Ave', 'LAFONTAINE AVE']),\n",
       " ('barretto st', ['BARRETTO ST', 'Barretto St']),\n",
       " ('manning st', ['MANNING ST', 'Manning St']),\n",
       " ('12th e st', ['E 12TH ST', 'E 12th St']),\n",
       " ('colonial rd', ['COLONIAL RD', 'Colonial Rd']),\n",
       " ('clinton pl', ['CLINTON PL', 'Clinton Pl']),\n",
       " ('ct dana', ['DANA CT', 'Dana Ct']),\n",
       " ('george st', ['George St', 'GEORGE ST']),\n",
       " ('132nd e st', ['E 132ND ST', 'E 132nd St']),\n",
       " ('48th ave', ['48TH AVE', '48th Ave']),\n",
       " ('ave graham', ['GRAHAM  AVE', 'Graham Ave', 'GRAHAM AVE']),\n",
       " ('crown st', ['Crown St', 'CROWN ST .', 'CROWN ST']),\n",
       " ('lombardy st', ['Lombardy St', 'LOMBARDY ST']),\n",
       " ('ave wyckoff', ['Wyckoff Ave', 'WYCKOFF AVE']),\n",
       " ('175th st w', ['W 175th St', 'W 175TH ST']),\n",
       " ('ave stronghurst', ['Stronghurst Ave', 'STRONGHURST AVE']),\n",
       " ('st strauss', ['Strauss St', 'STRAUSS ST']),\n",
       " ('ave prospect', ['PROSPECT AVE', 'PROSPECT  AVE', 'Prospect Ave']),\n",
       " ('ave jackson', ['JACKSON AVE.', 'JACKSON AVE', 'Jackson Ave']),\n",
       " ('ave beech', ['Beech Ave', 'BEECH AVE']),\n",
       " ('88th st w', ['W 88th St', 'W 88TH ST']),\n",
       " ('ave richmond', ['Richmond Ave', 'RICHMOND AVE']),\n",
       " ('9th st', ['9TH ST', '9th St']),\n",
       " ('ave east ny', ['EAST NY AVE', 'EAST NY  AVE']),\n",
       " ('178th st w', ['W 178th St', 'W 178TH ST']),\n",
       " ('duffield st', ['Duffield St', 'DUFFIELD ST']),\n",
       " ('ave edwards', ['EDWARDS AVE', 'Edwards Ave']),\n",
       " ('ave flatbush', ['FLATBUSH AVE', 'Flatbush Ave']),\n",
       " ('63rd e st', ['E 63rd St', 'E 63RD ST']),\n",
       " ('ave main', ['Main Ave', 'MAIN AVE']),\n",
       " ('ave lyon', ['LYON AVE', 'Lyon Ave']),\n",
       " ('ave carpenter', ['Carpenter Ave', 'CARPENTER AVE']),\n",
       " ('drew st', ['Drew St', 'DREW ST']),\n",
       " ('ave rathbun', ['Rathbun Ave', 'RATHBUN AVE']),\n",
       " ('67th rd', ['67TH RD', '67th Rd']),\n",
       " ('ave barnett', ['Barnett Ave', 'BARNETT AVE']),\n",
       " ('ave titus', ['Titus Ave', 'TITUS AVE']),\n",
       " ('park prospect west',\n",
       "  ['PROSPECT PARK WEST+', 'Prospect Park West', 'PROSPECT PARK WEST']),\n",
       " ('ave hunts point', ['Hunts Point Ave', 'HUNTS POINT AVE']),\n",
       " ('st varick', ['VARICK ST', 'Varick St']),\n",
       " ('165th st w', ['W 165th St', 'W 165TH ST']),\n",
       " ('st worthen', ['Worthen St', 'WORTHEN ST']),\n",
       " ('pelham pkwy south', ['PELHAM PKWY  SOUTH', 'PELHAM PKWY SOUTH']),\n",
       " ('ave pople', ['POPLE AVE', 'Pople Ave']),\n",
       " ('ave breeze sea', ['SEA BREEZE AVE', 'Sea Breeze Ave']),\n",
       " ('blvd garvey marcus', ['MARCUS GARVEY BLVD', 'Marcus Garvey Blvd']),\n",
       " ('avenue n', ['Avenue N', 'AVENUE N']),\n",
       " ('27th e st', ['E 27TH ST', 'E 27th St']),\n",
       " ('53rd e st', ['E 53rd St', 'E 53RD ST']),\n",
       " ('remsen st', ['REMSEN ST', 'Remsen St']),\n",
       " ('almeda ave', ['ALMEDA AVE', 'ALMEDA  AVE', 'Almeda Ave']),\n",
       " ('bragg st', ['BRAGG ST', 'Bragg St']),\n",
       " ('ave redfern', ['REDFERN AVE', 'Redfern Ave']),\n",
       " ('shiloh st', ['SHILOH ST', 'Shiloh St']),\n",
       " ('17th st', ['17TH ST', '17th St']),\n",
       " ('miriam st', ['Miriam St', 'MIRIAM ST']),\n",
       " ('8 avenue', ['8 AVENUE', '8  AVENUE']),\n",
       " ('ave saxon', ['SAXON AVE', 'Saxon Ave']),\n",
       " ('ave barrett', ['Barrett Ave', 'BARRETT AVE']),\n",
       " ('scholes st', ['Scholes St', 'SCHOLES ST']),\n",
       " ('blvd winchester', ['Winchester Blvd', 'WINCHESTER BLVD']),\n",
       " ('monroe st', ['MONROE ST', 'Monroe St']),\n",
       " ('argyle rd', ['Argyle Rd', 'ARGYLE RD']),\n",
       " ('ave columbus', ['COLUMBUS  AVE', 'Columbus Ave', 'COLUMBUS AVE']),\n",
       " ('maujer st', ['MAUJER ST', 'Maujer St']),\n",
       " ('himrod st', ['Himrod St', 'HIMROD ST']),\n",
       " ('87th e st', ['E 87th St', 'E 87TH ST']),\n",
       " ('benchley pl', ['Benchley Pl', 'BENCHLEY PL']),\n",
       " ('ave cebra', ['Cebra Ave', 'CEBRA AVE']),\n",
       " ('blvd olympia', ['OLYMPIA BLVD', 'Olympia Blvd']),\n",
       " ('ave kearney', ['Kearney Ave', 'KEARNEY AVE']),\n",
       " ('freedom pl', ['FREEDOM PL', 'Freedom Pl']),\n",
       " ('148th st', ['148TH ST', '148th St']),\n",
       " ('boss st', ['BOSS ST', 'Boss St']),\n",
       " ('ave e new york', ['E New York Ave', 'E NEW YORK AVE']),\n",
       " ('arden st', ['Arden St', 'ARDEN ST']),\n",
       " ('ave lockman', ['Lockman Ave', 'LOCKMAN AVE']),\n",
       " ('ave james st', ['St James Ave', 'ST JAMES AVE']),\n",
       " ('ave clarkson', ['CLARKSON AVE', 'Clarkson Ave']),\n",
       " ('237th e st', ['E 237TH ST', 'E 237th St']),\n",
       " ('112th e st', ['E 112TH ST', 'E 112th St']),\n",
       " ('ave woehrle', ['Woehrle Ave', 'WOEHRLE  AVE', 'WOEHRLE AVE']),\n",
       " ('68th e st', ['E 68th St', 'E 68TH ST']),\n",
       " ('clarendon rd', ['Clarendon Rd', 'CLARENDON RD']),\n",
       " ('knox pl', ['Knox Pl', 'KNOX PL']),\n",
       " ('bethune st', ['Bethune St', 'BETHUNE ST']),\n",
       " ('clymer st', ['CLYMER ST', 'Clymer St']),\n",
       " ('montague st', ['MONTAGUE  ST', 'Montague St', 'MONTAGUE ST']),\n",
       " ('rd watchogue', ['Watchogue Rd', 'WATCHOGUE RD']),\n",
       " ('ave katan', ['KATAN AVE', 'Katan Ave']),\n",
       " ('95 e st', ['E 95 ST', 'E .95 ST']),\n",
       " ('150 st w', ['W 150  ST', 'W 150 ST']),\n",
       " ('ave seaver', ['SEAVER AVE', 'Seaver Ave']),\n",
       " ('pl timpson', ['TIMPSON PL', 'Timpson Pl']),\n",
       " ('fitchett st', ['FITCHETT ST', 'Fitchett St']),\n",
       " ('ave lamont', ['LAMONT AVE', 'Lamont Ave']),\n",
       " ('evelyn pl', ['Evelyn Pl', 'EVELYN PL']),\n",
       " ('18th st', ['18TH ST', '18th St']),\n",
       " ('218th st w', ['W 218TH ST', 'W 218th St']),\n",
       " ('arthur ave', ['Arthur Ave', 'ARTHUR AVE']),\n",
       " ('st stanhope', ['STANHOPE ST', 'Stanhope St']),\n",
       " ('103 e st', ['E 103 ST', 'E .103 ST']),\n",
       " ('ave richard', ['RICHARD AVE', 'Richard Ave']),\n",
       " ('st troutman', ['TROUTMAN ST', 'Troutman St']),\n",
       " ('84th st', ['84th St', '84TH ST', '84TH  ST']),\n",
       " ('ave haven new', ['New Haven Ave', 'NEW HAVEN AVE']),\n",
       " ('catherine st', ['CATHERINE ST .', 'CATHERINE ST', 'Catherine St']),\n",
       " ('cass pl', ['Cass Pl', 'CASS PL']),\n",
       " ('pioneer st', ['Pioneer St', 'PIONEER ST']),\n",
       " ('165th st', ['165TH ST', '165th St']),\n",
       " ('ave pugsley', ['Pugsley Ave', 'PUGSLEY AVE']),\n",
       " ('34th st w', ['W 34TH ST', 'W 34th St']),\n",
       " ('ave clay', ['Clay Ave', 'CLAY AVE']),\n",
       " ('219th e st', ['E 219th St', 'E 219TH ST']),\n",
       " ('attorney st', ['ATTORNEY ST', 'Attorney St']),\n",
       " ('183rd st w', ['W 183RD ST', 'W 183rd St']),\n",
       " ('186th st w', ['W 186th St', 'W 186TH ST']),\n",
       " ('ln ludwig', ['LUDWIG LN', 'Ludwig Ln']),\n",
       " ('av siclen van', ['VAN  SICLEN AV', 'VAN SICLEN AV']),\n",
       " ('14th ave', ['14TH AVE', '14th Ave']),\n",
       " ('ave edgecombe', ['Edgecombe Ave', 'EDGECOMBE AVE']),\n",
       " ('bronx co nw park', ['N/W  C/O BRONX PARK', 'N/W C/O BRONX PARK']),\n",
       " ('seigel st', ['Seigel St', 'SEIGEL ST']),\n",
       " ('86th st w', ['W 86th St', 'W 86TH ST']),\n",
       " ('ave beaumont', ['Beaumont Ave', 'BEAUMONT AVE']),\n",
       " ('27th ave', ['27TH AVE', '27th Ave']),\n",
       " ('ave dekalb', ['Dekalb Ave', 'DEKALB AVE', 'DEKALB  AVE']),\n",
       " ('ave walnut', ['Walnut Ave', 'WALNUT AVE']),\n",
       " ('ave pearsall', ['PEARSALL AVE', 'Pearsall Ave']),\n",
       " ('co montauk st', ['C/O MONTAUK ST', 'C/O  MONTAUK ST']),\n",
       " ('e houston st', ['E Houston St', 'E HOUSTON ST', 'E Houston St.']),\n",
       " ('nansen st', ['NANSEN ST', 'Nansen St']),\n",
       " ('barbey st', ['BARBEY ST', 'Barbey St']),\n",
       " ('ave goulden', ['GOULDEN AVE', 'Goulden Ave']),\n",
       " ('bedford blvd pk', ['BEDFORD  PK BLVD', 'BEDFORD PK BLVD']),\n",
       " ('johnson st', ['JOHNSON ST', 'Johnson St']),\n",
       " ('manhattan st', ['Manhattan St', 'MANHATTAN ST']),\n",
       " ('division st', ['DIVISION ST', 'Division St']),\n",
       " ('richmond st', ['Richmond St', 'RICHMOND ST']),\n",
       " ('light st', ['LIGHT ST', 'Light St']),\n",
       " ('dalny rd', ['Dalny Rd', 'DALNY RD']),\n",
       " ('montauk st', ['Montauk St', 'MONTAUK ST']),\n",
       " ('essex st', ['ESSEX ST', 'Essex St']),\n",
       " ('211th e st', ['E 211TH ST', 'E 211th St']),\n",
       " ('baruch dr', ['Baruch Dr', 'BARUCH DR']),\n",
       " ('ave hudson', ['Hudson Ave', 'HUDSON AVE']),\n",
       " ('godwin ter', ['Godwin Ter', 'GODWIN TER']),\n",
       " ('nameoke st', ['NAMEOKE ST', 'Nameoke St']),\n",
       " ('christopher st', ['Christopher St', 'CHRISTOPHER ST']),\n",
       " ('136th ave', ['136TH AVE', '136th Ave']),\n",
       " ('baxter st', ['Baxter St', 'BAXTER ST']),\n",
       " ('ave bogart', ['Bogart Ave', 'BOGART AVE']),\n",
       " ('hart st', ['Hart St', 'HART  ST', 'HART ST']),\n",
       " ('eyck st ten', ['TEN EYCK ST', 'Ten Eyck St']),\n",
       " ('ave story', ['Story Ave', 'STORY AVE']),\n",
       " ('ave tilden', ['TILDEN AVE', 'Tilden Ave']),\n",
       " ('quincy st', ['QUINCY ST', 'Quincy St']),\n",
       " ('ln tysens', ['Tysens Ln', 'TYSENS LN']),\n",
       " ('145th dr', ['145th Dr', '145TH DR']),\n",
       " ('isham st', ['ISHAM ST', 'Isham St']),\n",
       " ('ave convent', ['CONVENT AVE', 'Convent Ave']),\n",
       " ('brabant st', ['BRABANT ST', 'Brabant St']),\n",
       " ('ave coney island',\n",
       "  ['CONEY ISLAND AVE .',\n",
       "   'CONEY  ISLAND AVE',\n",
       "   'CONEY ISLAND AVE',\n",
       "   'Coney Island Ave']),\n",
       " ('151st e st', ['E 151ST ST', 'E 151st St']),\n",
       " ('30th st', ['30TH ST', '30th St']),\n",
       " ('ave longstreet', ['Longstreet Ave', 'LONGSTREET AVE']),\n",
       " ('av lots new', ['NEW LOTS  AV', 'NEW LOTS AV']),\n",
       " ('122nd st', ['122ND ST', '122nd St']),\n",
       " ('ave grant', ['GRANT AVE', 'Grant Ave']),\n",
       " ...]"
      ]
     },
     "execution_count": 24,
     "metadata": {},
     "output_type": "execute_result"
    }
   ],
   "source": [
    "street_name_rdd.distinct(). \\\n",
    "\tmap(fingerprint). \\\n",
    "\tgroupByKey(). \\\n",
    "\tfilter(lambda x: len(x[1])>1). \\\n",
    "\tmapValues(list). \\\n",
    "\tcollect()\n"
   ]
  },
  {
   "cell_type": "code",
   "execution_count": 25,
   "id": "05860e95",
   "metadata": {},
   "outputs": [
    {
     "data": {
      "text/plain": [
       "22893"
      ]
     },
     "execution_count": 25,
     "metadata": {},
     "output_type": "execute_result"
    }
   ],
   "source": [
    "# count street_name after clustering\n",
    "street_name_rdd.count()"
   ]
  },
  {
   "cell_type": "code",
   "execution_count": 26,
   "id": "9a9ccca7",
   "metadata": {},
   "outputs": [
    {
     "data": {
      "text/plain": [
       "[('127th st', <pyspark.resultiterable.ResultIterable at 0x7f5764efa700>),\n",
       " ('5 avenue', <pyspark.resultiterable.ResultIterable at 0x7f5764efa790>),\n",
       " ('197th e st', <pyspark.resultiterable.ResultIterable at 0x7f5764efa820>),\n",
       " ('mitchell pl', <pyspark.resultiterable.ResultIterable at 0x7f5764efa8e0>),\n",
       " ('cumberland st', <pyspark.resultiterable.ResultIterable at 0x7f5764efa940>)]"
      ]
     },
     "execution_count": 26,
     "metadata": {},
     "output_type": "execute_result"
    }
   ],
   "source": [
    "# filter the result by only taking the keys\n",
    "street_name_rdd.distinct(). \\\n",
    "\tmap(fingerprint). \\\n",
    "\tgroupByKey(). \\\n",
    "\tfilter(lambda x: len(x[1])>1).take(5)\n"
   ]
  },
  {
   "cell_type": "code",
   "execution_count": 27,
   "id": "c20aa175",
   "metadata": {},
   "outputs": [
    {
     "name": "stdout",
     "output_type": "stream",
     "text": [
      "+--------------+----------+--------------+----------------+---------------------+------------------+------------------+--------------+-------------------+------------+-----------+--------------+---------------+--------------+--------+----------+------------------+-----------+-----------------+-------------+------------+------------+\n",
      "|summons_number|issue_date|violation_code|violation_county|violation_description|violation_location|violation_precinct|violation_time|time_first_observed|meter_number|issuer_code|issuer_command|issuer_precinct|issuing_agency|plate_id|plate_type|registration_state|street_name|vehicle_body_type|vehicle_color|vehicle_make|vehicle_year|\n",
      "+--------------+----------+--------------+----------------+---------------------+------------------+------------------+--------------+-------------------+------------+-----------+--------------+---------------+--------------+--------+----------+------------------+-----------+-----------------+-------------+------------+------------+\n",
      "|    1406103068|2016-03-16|            21|              BX|                 null|                47|                47|         0736A|               null|           -|     606956|          BX04|              0|             S| HAY5906|       PAS|                NY|   DYER AVE|             SUBN|        SILVR|        JEEP|        2012|\n",
      "|    1406103070|2016-03-16|            21|              BX|                 null|                47|                47|         0737A|               null|           -|     606956|          BX04|              0|             S| GXW7376|       PAS|                NY|   DYER AVE|             SUBN|         BLUE|       HONDA|        2004|\n",
      "|    7879396299|2016-03-29|            53|              NY|       53-Safety Zone|                14|                14|         0427P|               null|        null|     354181|          T502|             14|             T| FHZ7367|       PAS|                NY|   Dyer Ave|             4DSD|           WH|       ACURA|        2002|\n",
      "+--------------+----------+--------------+----------------+---------------------+------------------+------------------+--------------+-------------------+------------+-----------+--------------+---------------+--------------+--------+----------+------------------+-----------+-----------------+-------------+------------+------------+\n",
      "\n"
     ]
    }
   ],
   "source": [
    "# To determine a cluster should be merged or not, look more closely at the data.\n",
    "# check the other attributes to determine if the two ids correspond to the same entity\n",
    "parking_df.where((parking_df.street_name == 'DYER AVE') | \\\n",
    "\t(parking_df.street_name == 'Dyer Ave')). \\\n",
    "\tshow()"
   ]
  },
  {
   "cell_type": "code",
   "execution_count": 28,
   "id": "53b77356",
   "metadata": {},
   "outputs": [
    {
     "data": {
      "text/plain": [
       "2756"
      ]
     },
     "execution_count": 28,
     "metadata": {},
     "output_type": "execute_result"
    }
   ],
   "source": [
    "# count result after clustering\n",
    "street_name_rdd.distinct(). \\\n",
    "\tmap(fingerprint). \\\n",
    "\tgroupByKey(). \\\n",
    "\tfilter(lambda x: len(x[1])>1).count()"
   ]
  },
  {
   "cell_type": "markdown",
   "id": "20148092",
   "metadata": {},
   "source": [
    "# 1. Entity Resolution"
   ]
  },
  {
   "cell_type": "code",
   "execution_count": 29,
   "id": "d390a834",
   "metadata": {},
   "outputs": [],
   "source": [
    "# entity resolution\n",
    "# make text consistent\n",
    "# make everything lowercase and to filter out punctuation\n",
    "stname_normalized = street_name_rdd.map(\\\n",
    "                                        lambda x: ' '.join(str(x).strip().lower().translate(str.maketrans('', '', string.punctuation)).split()))"
   ]
  },
  {
   "cell_type": "code",
   "execution_count": 30,
   "id": "ce19818c",
   "metadata": {},
   "outputs": [
    {
     "data": {
      "text/plain": [
       "['court square',\n",
       " 'e 31 st',\n",
       " 'randalls island',\n",
       " 'e 45th street',\n",
       " 'sheridan ave',\n",
       " 'nb 87 st',\n",
       " 'roebling ave',\n",
       " 'w 110 st',\n",
       " 'co 129 st',\n",
       " 'fernside pl']"
      ]
     },
     "execution_count": 30,
     "metadata": {},
     "output_type": "execute_result"
    }
   ],
   "source": [
    "stname_normalized.take(10)"
   ]
  },
  {
   "cell_type": "code",
   "execution_count": 31,
   "id": "50a73c6b",
   "metadata": {},
   "outputs": [
    {
     "data": {
      "text/plain": [
       "('court square', 'court square')"
      ]
     },
     "execution_count": 31,
     "metadata": {},
     "output_type": "execute_result"
    }
   ],
   "source": [
    "# apply clustering again to normalized street name data\n",
    "stname_normalized.map(fingerprint).first()"
   ]
  },
  {
   "cell_type": "code",
   "execution_count": 32,
   "id": "287db80b",
   "metadata": {},
   "outputs": [
    {
     "data": {
      "text/plain": [
       "[('hope mount pl', 'mount hope pl'),\n",
       " ('carver loop', 'carver loop'),\n",
       " ('ave rombouts', 'rombouts ave'),\n",
       " ('ave monticello', 'monticello ave'),\n",
       " ('242nd st', '242nd st'),\n",
       " ('bessemer st', 'bessemer st'),\n",
       " ('56th rd', '56th rd'),\n",
       " ('astor pl', 'astor pl'),\n",
       " ('hamilton ter', 'hamilton ter'),\n",
       " ('rd victor', 'victor rd')]"
      ]
     },
     "execution_count": 32,
     "metadata": {},
     "output_type": "execute_result"
    }
   ],
   "source": [
    "stname_normalized.map(fingerprint).take(10)"
   ]
  },
  {
   "cell_type": "code",
   "execution_count": 33,
   "id": "6199a767",
   "metadata": {},
   "outputs": [
    {
     "data": {
      "text/plain": [
       "[('5 avenue', ['5 avenue', 'avenue 5']),\n",
       " ('ave madison nb', ['madison ave nb', 'nb madison ave']),\n",
       " ('7 arr jfkia terminal', ['terminal 7 jfkia arr', 'jfkia terminal 7 arr']),\n",
       " ('james st', ['james st', 'st james', 'st james st']),\n",
       " ('concourse grand sb', ['grand concourse sb', 'sb grand concourse']),\n",
       " ('blvd nb woodhaven', ['woodhaven blvd nb', 'nb woodhaven blvd']),\n",
       " ('st w41', ['w41 st', 'w41 st st']),\n",
       " ('ave h', ['ave h', 'h ave']),\n",
       " ('nicholas st', ['nicholas st', 'st nicholas']),\n",
       " ('14 ave co ne', ['ne co 14 ave', 'co ne 14 ave']),\n",
       " ('church st', ['st church st', 'church st']),\n",
       " ('101 e st', ['e 101 st', 'e 101 st st']),\n",
       " ('25 86 ave io st', ['25 ave io 86 st', '86 st io 25 ave']),\n",
       " ('main ny st', ['main st ny ny', 'main st ny']),\n",
       " ('51 e st', ['e 51 st st', 'e 51 st']),\n",
       " ('91 st west', ['west 91 st', 'west 91 st st']),\n",
       " ('81 st w', ['w 81 st st', 'w 81 st']),\n",
       " ('co marys st', ['co st marys st', 'co st marys']),\n",
       " ('blvd linden wb', ['wb linden blvd', 'linden blvd wb']),\n",
       " ('7 ave', ['ave 7', '7 ave']),\n",
       " ('mary st', ['mary st', 'st mary st']),\n",
       " ('d lga terminal', ['lga terminal d', 'terminal d lga']),\n",
       " ('concourse grand nb', ['nb grand concourse', 'grand concourse nb']),\n",
       " ('johns st', ['johns st', 'st johns', 'st johns st']),\n",
       " ('71 st', ['71 st st', '71 st']),\n",
       " ('edwards ne st', ['ne st edwards st', 'ne edwards st']),\n",
       " ('edwards st', ['st edwards', 'edwards st', 'st edwards st']),\n",
       " ('5 e', ['e 5', '5 e']),\n",
       " ('ave', ['ave', 'ave ave']),\n",
       " ('lawrence st', ['lawrence st', 'st lawrence']),\n",
       " ('10044 main ny st', ['main st ny ny 10044', 'main st ny 10044']),\n",
       " ('111 e st', ['e 111 st st', 'e 111 st']),\n",
       " ('blvd malcolm ws x', ['ws malcolm blvd x', 'ws malcolm x blvd']),\n",
       " ('broadway lirr sta', ['lirr broadway sta', 'lirr sta broadway']),\n",
       " ('142 st w', ['w 142 st', 'w w 142 st']),\n",
       " ('ave park so', ['park ave so', 'so park ave']),\n",
       " ('81 st', ['81 st st', '81 st']),\n",
       " ('11 avenue', ['11 avenue', 'avenue 11']),\n",
       " ('main ny ri st', ['main st ri ny ny', 'main st ri ny']),\n",
       " ('ave eb jamaica', ['jamaica ave eb', 'eb jamaica ave']),\n",
       " ('ave johns st', ['ave st johns', 'st johns ave', 'ave st johns ave']),\n",
       " ('marks st', ['st marks', 'st marks st']),\n",
       " ('21 east st', ['east 21 st st', 'east 21 st']),\n",
       " ('blvd sb woodhaven', ['woodhaven blvd sb', 'sb woodhaven blvd']),\n",
       " ('51 st west', ['west 51 st st', 'west 51 st']),\n",
       " ('jay st', ['st jay', 'jay st']),\n",
       " ('john st', ['st john st', 'john st']),\n",
       " ('plains rd sb white', ['sb white plains rd', 'white plains rd sb'])]"
      ]
     },
     "execution_count": 33,
     "metadata": {},
     "output_type": "execute_result"
    }
   ],
   "source": [
    "stname_normalized.distinct(). \\\n",
    "\tmap(fingerprint). \\\n",
    "\tgroupByKey(). \\\n",
    "\tfilter(lambda x: len(x[1])>1). \\\n",
    "\tmapValues(list). \\\n",
    "\tcollect()"
   ]
  },
  {
   "cell_type": "code",
   "execution_count": 34,
   "id": "95f08d85",
   "metadata": {},
   "outputs": [
    {
     "data": {
      "text/plain": [
       "[('7 arr jfkia terminal',\n",
       "  <pyspark.resultiterable.ResultIterable at 0x7f577864efa0>),\n",
       " ('5 avenue', <pyspark.resultiterable.ResultIterable at 0x7f5642fc89d0>),\n",
       " ('ave madison nb', <pyspark.resultiterable.ResultIterable at 0x7f5764f14280>),\n",
       " ('concourse grand sb',\n",
       "  <pyspark.resultiterable.ResultIterable at 0x7f5764f147f0>),\n",
       " ('james st', <pyspark.resultiterable.ResultIterable at 0x7f5764f14880>)]"
      ]
     },
     "execution_count": 34,
     "metadata": {},
     "output_type": "execute_result"
    }
   ],
   "source": [
    "# filter the result by only taking the keys\n",
    "stname_normalized.distinct(). \\\n",
    "\tmap(fingerprint). \\\n",
    "\tgroupByKey(). \\\n",
    "\tfilter(lambda x: len(x[1])>1).take(5)"
   ]
  },
  {
   "cell_type": "code",
   "execution_count": 35,
   "id": "1ac2870c",
   "metadata": {},
   "outputs": [
    {
     "data": {
      "text/plain": [
       "48"
      ]
     },
     "execution_count": 35,
     "metadata": {},
     "output_type": "execute_result"
    }
   ],
   "source": [
    "# count stname after clustering\n",
    "stname_normalized.distinct(). \\\n",
    "\tmap(fingerprint). \\\n",
    "\tgroupByKey(). \\\n",
    "\tfilter(lambda x: len(x[1])>1).count()"
   ]
  },
  {
   "cell_type": "code",
   "execution_count": 36,
   "id": "c6e68237",
   "metadata": {},
   "outputs": [
    {
     "name": "stdout",
     "output_type": "stream",
     "text": [
      "+--------------+----------+--------------+----------------+---------------------+------------------+------------------+--------------+-------------------+------------+-----------+--------------+---------------+--------------+--------+----------+------------------+-----------+-----------------+-------------+------------+------------+\n",
      "|summons_number|issue_date|violation_code|violation_county|violation_description|violation_location|violation_precinct|violation_time|time_first_observed|meter_number|issuer_code|issuer_command|issuer_precinct|issuing_agency|plate_id|plate_type|registration_state|street_name|vehicle_body_type|vehicle_color|vehicle_make|vehicle_year|\n",
      "+--------------+----------+--------------+----------------+---------------------+------------------+------------------+--------------+-------------------+------------+-----------+--------------+---------------+--------------+--------+----------+------------------+-----------+-----------------+-------------+------------+------------+\n",
      "|    1400543575|2016-03-17|            21|               Q|                 null|               115|               115|         0936A|               null|           -|     333060|          T504|            504|             P| HAL4614|       PAS|                NY|      71 ST|             SUBN|          WHT|       DODGE|        1999|\n",
      "|    1402126669|2016-03-15|            40|               K|                 null|                68|                68|         0148A|               null|           -|     952864|          0068|             68|             P| GXG5328|       PAS|                NY|      71 ST|             SUBN|          BLK|       LEXUS|        2010|\n",
      "|    1404358699|2016-03-11|            50|               Q|                 null|               115|               115|         0945A|               null|           -|     956619|          0115|            115|             P| GKW1267|       PAS|                NY|      71 ST|             SUBN|        SILVR|       CHRYS|        2008|\n",
      "|    1409130010|2016-03-14|            40|               K|                 null|                68|                68|         0400A|               null|           -|     959246|          0068|             68|             P| HAT5589|       PAS|                NY|      71 ST|             SUBN|        WHITE|        JEEP|        2011|\n",
      "|    1400541189|2016-03-09|            21|               Q|                 null|               115|               115|         0942A|               null|           -|     333060|          T504|            504|             P| DAC6985|       PAS|                NC|      71 ST|              SDN|          RED|        FORD|           0|\n",
      "|    1401424284|2016-03-02|            46|               K|                 null|                68|                68|         0430P|               null|           -|     948217|          0068|             68|             P| 92917JE|       COM|                NY|      71 ST|             DELV|           BR|       MERCU|           0|\n",
      "|    1402127285|2016-03-15|            40|               K|                 null|                68|                68|         0558A|               null|           -|     950617|          0068|             68|             P| EEE5174|       PAS|                NY|      71 ST|              SDN|           GR|       MERCU|        2004|\n",
      "|    1403921143|2016-03-01|            50|               K|                 null|                62|                62|         0654A|               null|           -|     938416|          0062|             62|             P| FYT6217|       PAS|                NY|      71 ST|              SDN|        WHITE|       INFIN|        2015|\n",
      "|    1404340269|2016-03-09|            78|               Q|                 null|               104|               104|         1025P|               null|           -|     939200|          0104|            104|             P| 88453ME|       COM|                NY|      71 ST|              VAN|        WHITE|        FORD|        2010|\n",
      "|    1407236155|2016-03-10|            21|               K|                 null|                68|                68|         1158A|               null|           -|     531401|          BK10|              0|             S|  VJL29K|       PAS|                NJ|      71 ST|              SDN|        GREEN|       TOYOT|           0|\n",
      "|    1407252045|2016-03-08|            21|               K|                 null|                68|                68|         1158A|               null|           -|     538179|          KS10|              0|             S| 4GHE908|       PAS|                CA|   71 ST ST|             SUBN|        BLACK|       NISSA|           0|\n",
      "|    1407252057|2016-03-08|            21|               K|                 null|                68|                68|         1200P|               null|           -|     538179|          KS10|              0|             S| CYU1298|       PAS|                NY|   71 ST ST|              SDN|         BLUE|       HONDA|        2004|\n",
      "|    1407252069|2016-03-08|            21|               K|                 null|                68|                68|         1201P|               null|           -|     538179|          KS10|              0|             S|  CVYC12|       PAS|                FL|   71 ST ST|              VAN|        BLACK|       DODGE|           0|\n",
      "|    1403757021|2016-03-24|            71|               Q|                 null|               115|               115|         1220P|               null|           -|     936663|          0420|            420|             P| HDM1506|       PAS|                NY|      71 ST|              SDN|          GRY|       MAZDA|        2007|\n",
      "|    1404400503|2016-03-24|            98|               Q|                 null|               104|               104|         0404A|               null|           -|     958813|          0104|            104|             P| GRZ4349|       PAS|                NY|      71 ST|             SUBN|        WHITE|       HONDA|        2009|\n",
      "|    1403908679|2016-03-27|            40|               K|                 null|                62|                62|         1118P|               null|           -|     959380|          0062|             62|             P| GZC3779|       PAS|                NY|      71 ST|              SDN|           WH|       ACURA|        2010|\n",
      "|    1403912269|2016-03-26|            40|               K|                 null|                62|                62|         0233A|               null|           -|     939146|          0062|             62|             P| GZP5069|       OMS|                NY|   71 ST ST|              SDN|         GRAY|       DODGE|        2015|\n",
      "|    1405648417|2016-03-27|            98|               Q|                 null|               104|               104|         0828A|               null|           -|     952789|          0104|            104|             P|  GDFR49|       PAS|                FL|      71 ST|             SUBN|         GRAY|       TOYOT|           0|\n",
      "|    1406835493|2016-03-16|            98|               K|                 null|                68|                68|         1014A|               null|           -|     940055|          0068|             68|             P| GVC2095|       PAS|                NY|      71 ST|              VAN|           GN|       DODGE|        2003|\n",
      "|    1402127315|2016-03-31|            78|               K|                 null|                68|                68|         0337A|               null|           -|     950617|          0068|             68|             P| 37892MH|       COM|                NY|      71 ST|              VAN|        WHITE|        FORD|        2015|\n",
      "+--------------+----------+--------------+----------------+---------------------+------------------+------------------+--------------+-------------------+------------+-----------+--------------+---------------+--------------+--------+----------+------------------+-----------+-----------------+-------------+------------+------------+\n",
      "only showing top 20 rows\n",
      "\n"
     ]
    }
   ],
   "source": [
    "# To determine a cluster should be merged or not, look more closely at the data.\n",
    "# check the other attributes to determine if the two ids correspond to the same entity\n",
    "parking_df.where((parking_df.street_name == '71 ST ST') | \\\n",
    "\t(parking_df.street_name == '71 ST')). \\\n",
    "\tshow()"
   ]
  },
  {
   "cell_type": "code",
   "execution_count": 37,
   "id": "b1c3a0d9",
   "metadata": {},
   "outputs": [
    {
     "data": {
      "text/plain": [
       "4"
      ]
     },
     "execution_count": 37,
     "metadata": {},
     "output_type": "execute_result"
    }
   ],
   "source": [
    "parking_df.where(parking_df.street_name == '71 ST ST').count()"
   ]
  },
  {
   "cell_type": "code",
   "execution_count": 38,
   "id": "22a24d4b",
   "metadata": {},
   "outputs": [
    {
     "data": {
      "text/plain": [
       "20"
      ]
     },
     "execution_count": 38,
     "metadata": {},
     "output_type": "execute_result"
    }
   ],
   "source": [
    "parking_df.where(parking_df.street_name == '71 ST').count()"
   ]
  },
  {
   "cell_type": "code",
   "execution_count": 39,
   "id": "5630686a",
   "metadata": {},
   "outputs": [
    {
     "data": {
      "text/plain": [
       "0"
      ]
     },
     "execution_count": 39,
     "metadata": {},
     "output_type": "execute_result"
    }
   ],
   "source": [
    "# we can combine them together since it looks like the 71 ST ST is the typo since they match with county and violation_locations\n",
    "# I chose to replace 71 ST ST with 71 ST as 71 ST ST only appeared 4 times\n",
    "parking_df = parking_df.withColumn('street_name', F.when(parking_df['street_name']=='71 ST ST', '71 ST').otherwise(parking_df['street_name']))\n",
    "parking_df.where(parking_df.street_name == '71 ST ST').count()     "
   ]
  },
  {
   "cell_type": "code",
   "execution_count": 40,
   "id": "4b7011e8",
   "metadata": {},
   "outputs": [],
   "source": [
    "# vehicle make data\n",
    "vehicle_make_rdd = parking_df.select('vehicle_make').distinct().rdd.flatMap(list).filter(lambda x: x!=None)"
   ]
  },
  {
   "cell_type": "code",
   "execution_count": 41,
   "id": "f6123b05",
   "metadata": {},
   "outputs": [
    {
     "data": {
      "text/plain": [
       "['BOAT',\n",
       " 'PETER',\n",
       " 'YAMAH',\n",
       " 'MARCU',\n",
       " 'ACURA',\n",
       " 'STE',\n",
       " 'KENWO',\n",
       " 'SUMMI',\n",
       " 'WINN',\n",
       " 'MO/V']"
      ]
     },
     "execution_count": 41,
     "metadata": {},
     "output_type": "execute_result"
    }
   ],
   "source": [
    "vehicle_make_rdd.take(10)"
   ]
  },
  {
   "cell_type": "markdown",
   "id": "f6ad0557",
   "metadata": {},
   "source": [
    "# 2. Outlier"
   ]
  },
  {
   "cell_type": "code",
   "execution_count": 42,
   "id": "3c8ddbb1",
   "metadata": {},
   "outputs": [],
   "source": [
    "# Outliers in vehicle_make"
   ]
  },
  {
   "cell_type": "code",
   "execution_count": 43,
   "id": "bb4d8908",
   "metadata": {},
   "outputs": [
    {
     "name": "stdout",
     "output_type": "stream",
     "text": [
      "+----------------------------+\n",
      "|count(DISTINCT vehicle_make)|\n",
      "+----------------------------+\n",
      "|                        1146|\n",
      "+----------------------------+\n",
      "\n"
     ]
    }
   ],
   "source": [
    "# check how many distinct vehicle_make in the table\n",
    "spark.sql(\"SELECT count(DISTINCT vehicle_make) FROM parking\").show()"
   ]
  },
  {
   "cell_type": "code",
   "execution_count": 44,
   "id": "b3114e07",
   "metadata": {},
   "outputs": [
    {
     "name": "stdout",
     "output_type": "stream",
     "text": [
      "+----------------------------+\n",
      "|count(DISTINCT vehicle_make)|\n",
      "+----------------------------+\n",
      "|                        1146|\n",
      "+----------------------------+\n",
      "\n"
     ]
    }
   ],
   "source": [
    "# check how many non null distinct vehicle_make in the table\n",
    "spark.sql(\"SELECT count(DISTINCT vehicle_make) FROM parking WHERE plate_type IS NOT NULL\").show()"
   ]
  },
  {
   "cell_type": "code",
   "execution_count": 45,
   "id": "7bb9a159",
   "metadata": {},
   "outputs": [
    {
     "name": "stdout",
     "output_type": "stream",
     "text": [
      "+------------+\n",
      "|vehicle_make|\n",
      "+------------+\n",
      "|       HONDA|\n",
      "|        JEEP|\n",
      "|        FORD|\n",
      "|       DODGE|\n",
      "|       CHEVR|\n",
      "+------------+\n",
      "only showing top 5 rows\n",
      "\n"
     ]
    }
   ],
   "source": [
    "# list some vehicle_make\n",
    "spark.sql(\"SELECT vehicle_make FROM parking\").show(5)"
   ]
  },
  {
   "cell_type": "code",
   "execution_count": 46,
   "id": "82ca5f94",
   "metadata": {},
   "outputs": [
    {
     "name": "stdout",
     "output_type": "stream",
     "text": [
      "+-------------------+\n",
      "|count(vehicle_make)|\n",
      "+-------------------+\n",
      "|                  1|\n",
      "+-------------------+\n",
      "\n"
     ]
    }
   ],
   "source": [
    "# Clearly, all the vehicle_make is not null, check any invalid vehicle_make\n",
    "spark.sql(\"SELECT count(vehicle_make) FROM parking WHERE vehicle_make like '%9%'\").show()"
   ]
  },
  {
   "cell_type": "code",
   "execution_count": 47,
   "id": "dd82fad4",
   "metadata": {},
   "outputs": [
    {
     "name": "stdout",
     "output_type": "stream",
     "text": [
      "+--------------+----------+--------------+----------------+------------+\n",
      "|summons_number|issue_date|violation_code|violation_county|vehicle_make|\n",
      "+--------------+----------+--------------+----------------+------------+\n",
      "|    1405530509|2016-03-03|            79|              NY|          95|\n",
      "+--------------+----------+--------------+----------------+------------+\n",
      "\n"
     ]
    }
   ],
   "source": [
    "# check if intereting vehicle make with number 9\n",
    "spark.sql(\"SELECT summons_number, issue_date, violation_code, violation_county, vehicle_make FROM parking WHERE vehicle_make like '%9%'\").show()"
   ]
  },
  {
   "cell_type": "code",
   "execution_count": 48,
   "id": "751d776b",
   "metadata": {},
   "outputs": [
    {
     "name": "stdout",
     "output_type": "stream",
     "text": [
      "+--------------+----------+--------------+----------------+------------+\n",
      "|summons_number|issue_date|violation_code|violation_county|vehicle_make|\n",
      "+--------------+----------+--------------+----------------+------------+\n",
      "|    1409097596|2016-03-17|            66|              BX|        8115|\n",
      "+--------------+----------+--------------+----------------+------------+\n",
      "\n"
     ]
    }
   ],
   "source": [
    "# check if any intereting vehicle make\n",
    "spark.sql(\"SELECT summons_number, issue_date, violation_code, violation_county, vehicle_make FROM parking WHERE vehicle_make like '%8%'\").show()"
   ]
  },
  {
   "cell_type": "code",
   "execution_count": 49,
   "id": "03c05429",
   "metadata": {},
   "outputs": [
    {
     "name": "stdout",
     "output_type": "stream",
     "text": [
      "+--------------+----------+--------------+----------------+------------+\n",
      "|summons_number|issue_date|violation_code|violation_county|vehicle_make|\n",
      "+--------------+----------+--------------+----------------+------------+\n",
      "|    1405530509|2016-03-03|            79|              NY|          95|\n",
      "|    1406835997|2016-03-06|            98|               K|           1|\n",
      "|    1409097596|2016-03-17|            66|              BX|        8115|\n",
      "|    1405561907|2016-03-23|            46|              NY|          12|\n",
      "|    4005641325|2016-03-21|             5|            null|         201|\n",
      "+--------------+----------+--------------+----------------+------------+\n",
      "\n"
     ]
    }
   ],
   "source": [
    "# check any intereting vehicle make\n",
    "spark.sql(\"SELECT summons_number, issue_date, violation_code, violation_county, vehicle_make FROM parking WHERE vehicle_make REGEXP '^[0-9]+$'\").show()"
   ]
  },
  {
   "cell_type": "code",
   "execution_count": 50,
   "id": "38751a3d",
   "metadata": {},
   "outputs": [
    {
     "name": "stdout",
     "output_type": "stream",
     "text": [
      "+--------+\n",
      "|count(1)|\n",
      "+--------+\n",
      "|       5|\n",
      "+--------+\n",
      "\n"
     ]
    }
   ],
   "source": [
    "# check total number of vehicle make that only consists of numbers\n",
    "spark.sql(\"SELECT count(*) FROM parking WHERE vehicle_make REGEXP '^[0-9]+$'\").show()"
   ]
  },
  {
   "cell_type": "code",
   "execution_count": 51,
   "id": "93a5c647",
   "metadata": {},
   "outputs": [],
   "source": [
    "# only 5 violation records have pure numberic vehicle make. We want to delete them from our database\n",
    "# create a new data frame with no numberic vehicle make\n",
    "from pyspark.sql.functions import col\n",
    "parking_df5 = parking_df.filter(~col(\"vehicle_make\").rlike(\"^[0-9]+$\"))"
   ]
  },
  {
   "cell_type": "code",
   "execution_count": 52,
   "id": "542ee38a",
   "metadata": {},
   "outputs": [
    {
     "data": {
      "text/plain": [
       "1008096"
      ]
     },
     "execution_count": 52,
     "metadata": {},
     "output_type": "execute_result"
    }
   ],
   "source": [
    "parking_df5.count()"
   ]
  },
  {
   "cell_type": "code",
   "execution_count": 53,
   "id": "dc3ec8d1",
   "metadata": {
    "scrolled": true
   },
   "outputs": [
    {
     "data": {
      "text/plain": [
       "0"
      ]
     },
     "execution_count": 53,
     "metadata": {},
     "output_type": "execute_result"
    }
   ],
   "source": [
    "# after cleaning, check again\n",
    "parking_df5.filter(col(\"vehicle_make\").rlike(\"^[0-9]+$\")).count()"
   ]
  },
  {
   "cell_type": "code",
   "execution_count": 54,
   "id": "d1f22679",
   "metadata": {},
   "outputs": [],
   "source": [
    "# create a vew with parking_df5\n",
    "parking_df5.createOrReplaceTempView(\"parking_cleaned\")"
   ]
  },
  {
   "cell_type": "code",
   "execution_count": 55,
   "id": "681fc152",
   "metadata": {},
   "outputs": [
    {
     "name": "stdout",
     "output_type": "stream",
     "text": [
      "+------------+------+\n",
      "|vehicle_make| count|\n",
      "+------------+------+\n",
      "|        FORD|124710|\n",
      "|       TOYOT|110717|\n",
      "|       HONDA| 97505|\n",
      "|       NISSA| 81869|\n",
      "|       CHEVR| 70458|\n",
      "|       FRUEH| 40756|\n",
      "|       ME/BE| 35403|\n",
      "|       DODGE| 34626|\n",
      "|         BMW| 33989|\n",
      "|        JEEP| 29899|\n",
      "|       INTER| 27209|\n",
      "|         GMC| 26677|\n",
      "|       HYUND| 25912|\n",
      "|       LEXUS| 23694|\n",
      "|       ACURA| 18617|\n",
      "|       CHRYS| 18071|\n",
      "|       VOLKS| 17231|\n",
      "|       INFIN| 15960|\n",
      "|       SUBAR| 12535|\n",
      "|        AUDI| 12152|\n",
      "|       NS/OT| 11702|\n",
      "|       ISUZU| 10989|\n",
      "|       MITSU|  9955|\n",
      "|        HINO|  9803|\n",
      "|       MAZDA|  9728|\n",
      "|         KIA|  9469|\n",
      "+------------+------+\n",
      "only showing top 26 rows\n",
      "\n"
     ]
    }
   ],
   "source": [
    "parking_df5.groupBy('vehicle_make').count().orderBy('count', ascending=False).show(26)"
   ]
  },
  {
   "cell_type": "markdown",
   "id": "a696aeff",
   "metadata": {},
   "source": [
    "# 3. uniqueness"
   ]
  },
  {
   "cell_type": "code",
   "execution_count": 57,
   "id": "1c9c4a3e",
   "metadata": {},
   "outputs": [
    {
     "name": "stdout",
     "output_type": "stream",
     "text": [
      "+--------------+-----+\n",
      "|summons_number|count|\n",
      "+--------------+-----+\n",
      "|    1398889878|    1|\n",
      "|    1398890285|    1|\n",
      "|    1382344934|    1|\n",
      "|    1399191962|    1|\n",
      "|    1399275999|    1|\n",
      "|    1388230318|    1|\n",
      "|    1399310215|    1|\n",
      "|    1399361193|    1|\n",
      "|    1388885270|    1|\n",
      "|    1119098361|    1|\n",
      "|    1398805774|    1|\n",
      "|    1375895953|    1|\n",
      "|    1401135250|    1|\n",
      "|    1399622936|    1|\n",
      "|    1400539936|    1|\n",
      "|    1400543228|    1|\n",
      "|    1399919192|    1|\n",
      "|    1400213812|    1|\n",
      "|    1402141671|    1|\n",
      "|    1403014760|    1|\n",
      "+--------------+-----+\n",
      "only showing top 20 rows\n",
      "\n"
     ]
    }
   ],
   "source": [
    "# show any repeated summons_number in the original database\n",
    "spark.sql(\"SELECT summons_number, count(summons_number) AS count FROM parking GROUP BY summons_number ORDER BY count DESC\").show()"
   ]
  },
  {
   "cell_type": "code",
   "execution_count": 58,
   "id": "0da12aaa",
   "metadata": {},
   "outputs": [
    {
     "name": "stderr",
     "output_type": "stream",
     "text": [
      "                                                                                \r"
     ]
    },
    {
     "name": "stdout",
     "output_type": "stream",
     "text": [
      "+--------------+-----+\n",
      "|summons_number|count|\n",
      "+--------------+-----+\n",
      "+--------------+-----+\n",
      "\n"
     ]
    }
   ],
   "source": [
    "# check if there are any repeated summons_number\n",
    "spark.sql(\"SELECT summons_number, count(*) AS count FROM parking GROUP BY summons_number HAVING count > 1\").show()"
   ]
  },
  {
   "cell_type": "code",
   "execution_count": 59,
   "id": "ceb21c10",
   "metadata": {},
   "outputs": [],
   "source": [
    "# Clearly, the summons_number is unique"
   ]
  },
  {
   "cell_type": "markdown",
   "id": "a9c9d12a",
   "metadata": {},
   "source": [
    "# 4. functional dependency"
   ]
  },
  {
   "cell_type": "code",
   "execution_count": 60,
   "id": "bdc05310",
   "metadata": {},
   "outputs": [
    {
     "name": "stdout",
     "output_type": "stream",
     "text": [
      "+----------+--------+\n",
      "|unique_num|count(1)|\n",
      "+----------+--------+\n",
      "|   1014017| 1014017|\n",
      "+----------+--------+\n",
      "\n"
     ]
    }
   ],
   "source": [
    "# functional dependency:\n",
    "# summons_number --> summons_number, issue_date, violation_code, violation_county, violation_description, violation_location, violation_precinct, violation_time, time_first_observed, meter_number, issuer_code, issuer_command, issuer_precinct, issuing_agency, plate_id, plate_type, registration_state, street_name, vehicle_body_type, vehicle_color, vehicle_make, vehicle_year\n",
    "# summons_number can uniquely determine the other attributes\n",
    "spark.sql(\"SELECT count(DISTINCT summons_number) AS unique_num, count(*) FROM parking\").show()\n",
    "# the functional dependency is valid and the summons_number is the primary key"
   ]
  },
  {
   "cell_type": "code",
   "execution_count": 68,
   "id": "7d95bbbb",
   "metadata": {},
   "outputs": [
    {
     "name": "stdout",
     "output_type": "stream",
     "text": [
      "+----------------+------------------+------------------+---------------+\n",
      "|violation_county|violation_location|violation_precinct|issuer_precinct|\n",
      "+----------------+------------------+------------------+---------------+\n",
      "|              NY|                 1|                 1|              1|\n",
      "|              BX|                45|                45|             43|\n",
      "|              NY|                34|                34|              0|\n",
      "|               K|                67|                67|             67|\n",
      "|              NY|                14|                14|            161|\n",
      "|              NY|                14|                14|             14|\n",
      "|              NY|                36|                36|              0|\n",
      "|              BX|                47|                47|              0|\n",
      "|               K|                70|                70|             70|\n",
      "|              NY|                10|                10|            420|\n",
      "|              BX|                43|                43|            163|\n",
      "|              BX|                47|                47|             47|\n",
      "|               K|                73|                73|            165|\n",
      "|              NY|                28|                28|             28|\n",
      "|              BX|                49|                49|              0|\n",
      "|               K|                70|                70|             70|\n",
      "|              NY|                 6|                 6|              6|\n",
      "|              NY|                14|                14|             14|\n",
      "|              BX|                42|                42|             42|\n",
      "|              NY|                19|                19|            137|\n",
      "+----------------+------------------+------------------+---------------+\n",
      "only showing top 20 rows\n",
      "\n"
     ]
    }
   ],
   "source": [
    "# It is also possible that violation_location --> violation_precinct\n",
    "spark.sql(\"SELECT violation_county, violation_location, violation_precinct, issuer_precinct FROM parking\").show()"
   ]
  },
  {
   "cell_type": "code",
   "execution_count": 70,
   "id": "cd4f9f86",
   "metadata": {},
   "outputs": [
    {
     "name": "stdout",
     "output_type": "stream",
     "text": [
      "+--------------+------------------+------------------+\n",
      "|summons_number|violation_location|violation_precinct|\n",
      "+--------------+------------------+------------------+\n",
      "|    1399962218|                -1|                 0|\n",
      "|    1405544685|                -1|                 0|\n",
      "|    1408162891|                -1|                 0|\n",
      "|    4617489101|                -1|                 0|\n",
      "|    6020498920|                -1|                 0|\n",
      "|    7495892237|                -1|                 0|\n",
      "|    7604084588|                -1|                 0|\n",
      "|    1399378934|                -1|                 0|\n",
      "|    1404295392|                -1|                 0|\n",
      "|    1405539288|                -1|                 0|\n",
      "|    1405544170|                -1|                 0|\n",
      "|    1405547870|                -1|                 0|\n",
      "|    1407025302|                -1|                 0|\n",
      "|    4005586958|                -1|                 0|\n",
      "|    4616846996|                -1|                 0|\n",
      "|    4617113885|                -1|                 0|\n",
      "|    4617223575|                -1|                 0|\n",
      "|    4617615702|                -1|                 0|\n",
      "|    4617726342|                -1|                 0|\n",
      "|    5090702779|                -1|                 0|\n",
      "+--------------+------------------+------------------+\n",
      "only showing top 20 rows\n",
      "\n"
     ]
    }
   ],
   "source": [
    "# check if there exists any violation record that has different violation_location than violation_precinct\n",
    "spark.sql(\"SELECT summons_number, violation_location, violation_precinct FROM parking WHERE violation_location != violation_precinct\").show()"
   ]
  },
  {
   "cell_type": "code",
   "execution_count": 71,
   "id": "49fc02cd",
   "metadata": {},
   "outputs": [
    {
     "name": "stdout",
     "output_type": "stream",
     "text": [
      "+-------------------------+\n",
      "|count(violation_location)|\n",
      "+-------------------------+\n",
      "|                    29953|\n",
      "+-------------------------+\n",
      "\n",
      "+-------------------------+\n",
      "|count(violation_precinct)|\n",
      "+-------------------------+\n",
      "|                    29953|\n",
      "+-------------------------+\n",
      "\n"
     ]
    }
   ],
   "source": [
    "spark.sql(\"SELECT count(violation_location) FROM parking WHERE violation_location == 1\").show()\n",
    "spark.sql(\"SELECT summons_number, violation_location, violation_precinct FROM parking WHERE violation_location != violation_precinct\").show()spark.sql(\"SELECT count(violation_precinct) FROM parking WHERE violation_precinct == 1\").show()"
   ]
  },
  {
   "cell_type": "code",
   "execution_count": 74,
   "id": "215c07dc",
   "metadata": {},
   "outputs": [
    {
     "name": "stdout",
     "output_type": "stream",
     "text": [
      "+--------------+------------------+------------------+\n",
      "|summons_number|violation_location|violation_precinct|\n",
      "+--------------+------------------+------------------+\n",
      "+--------------+------------------+------------------+\n",
      "\n"
     ]
    }
   ],
   "source": [
    "# Show that either violation_location = violation_precinct or violation_location = -1 and violation_precinct = 0\n",
    "# thus, violation_location --> violation_precinct\n",
    "spark.sql(\"SELECT summons_number, violation_location, violation_precinct FROM parking WHERE violation_location != violation_precinct AND violation_location == -1 AND violation_precinct != 0\").show()"
   ]
  },
  {
   "cell_type": "markdown",
   "id": "0b1167cf",
   "metadata": {},
   "source": [
    "# 5. value constraints"
   ]
  },
  {
   "cell_type": "code",
   "execution_count": 61,
   "id": "d3e73b8d",
   "metadata": {},
   "outputs": [
    {
     "name": "stdout",
     "output_type": "stream",
     "text": [
      "+------------+------+\n",
      "|vehicle_year| count|\n",
      "+------------+------+\n",
      "|           0|223110|\n",
      "|        2066|    28|\n",
      "|        2069|    13|\n",
      "|        2062|    11|\n",
      "|        2068|    11|\n",
      "|        2067|     9|\n",
      "|        2065|     7|\n",
      "|        2025|     6|\n",
      "|        2063|     6|\n",
      "|        2027|     5|\n",
      "|        2064|     4|\n",
      "|        2061|     4|\n",
      "|        2047|     2|\n",
      "|        2052|     2|\n",
      "|        2045|     2|\n",
      "|        2058|     2|\n",
      "|        2059|     2|\n",
      "|        2029|     2|\n",
      "|        2031|     2|\n",
      "|        2032|     1|\n",
      "+------------+------+\n",
      "only showing top 20 rows\n",
      "\n"
     ]
    }
   ],
   "source": [
    "# value constraints\n",
    "# we want to check if vehicle year is between 1886(first car built in history) and 2023(current year)\n",
    "spark.sql(\"SELECT vehicle_year, count(vehicle_year) AS count FROM parking GROUP BY vehicle_year HAVING vehicle_year > 2023 OR vehicle_year < 1886 ORDER BY count desc\").show()"
   ]
  },
  {
   "cell_type": "code",
   "execution_count": 62,
   "id": "5798686b",
   "metadata": {},
   "outputs": [
    {
     "name": "stdout",
     "output_type": "stream",
     "text": [
      "+------------+------+\n",
      "|vehicle_year| count|\n",
      "+------------+------+\n",
      "|        null|223110|\n",
      "|        2015|110455|\n",
      "|        2014| 83167|\n",
      "|        2013| 69772|\n",
      "|        2012| 50065|\n",
      "|        2007| 45898|\n",
      "|        2011| 42989|\n",
      "|        2016| 42562|\n",
      "|        2006| 42195|\n",
      "|        2008| 39694|\n",
      "|        2005| 37570|\n",
      "|        2004| 34845|\n",
      "|        2010| 34208|\n",
      "|        2009| 31723|\n",
      "|        2003| 29119|\n",
      "|        2002| 24699|\n",
      "|        2001| 20716|\n",
      "|        1999| 12380|\n",
      "|        1998|  9505|\n",
      "|        1997|  8540|\n",
      "|        1996|  4814|\n",
      "|        1995|  4061|\n",
      "|        1990|  1799|\n",
      "|        1994|  1698|\n",
      "|        1988|  1529|\n",
      "|        1992|  1442|\n",
      "+------------+------+\n",
      "only showing top 26 rows\n",
      "\n"
     ]
    }
   ],
   "source": [
    "# Clearly, there are many invalid data of vehicle_year\n",
    "# For vehicle year > 2023, we force them to be 2023. For vehicle year = 0, change the vehicle year to null\n",
    "# change plate_type 999 to null\n",
    "parking_df6 = parking_df.withColumn('vehicle_year', F.when(parking_df['vehicle_year']=='0', 'null').otherwise(parking_df['vehicle_year']))\n",
    "parking_df6 = parking_df6.withColumn('vehicle_year', F.when(parking_df6['vehicle_year'] > 2023, 2023).otherwise(parking_df6['vehicle_year']))\n",
    "parking_df6.groupBy('vehicle_year').count().orderBy('count', ascending=False).show(26)\n"
   ]
  },
  {
   "cell_type": "code",
   "execution_count": 63,
   "id": "8e321805",
   "metadata": {},
   "outputs": [
    {
     "name": "stdout",
     "output_type": "stream",
     "text": [
      "+--------------+----------+--------------+----------------+---------------------+------------------+------------------+--------------+-------------------+------------+-----------+--------------+---------------+--------------+--------+----------+------------------+-----------+-----------------+-------------+------------+------------+\n",
      "|summons_number|issue_date|violation_code|violation_county|violation_description|violation_location|violation_precinct|violation_time|time_first_observed|meter_number|issuer_code|issuer_command|issuer_precinct|issuing_agency|plate_id|plate_type|registration_state|street_name|vehicle_body_type|vehicle_color|vehicle_make|vehicle_year|\n",
      "+--------------+----------+--------------+----------------+---------------------+------------------+------------------+--------------+-------------------+------------+-----------+--------------+---------------+--------------+--------+----------+------------------+-----------+-----------------+-------------+------------+------------+\n",
      "+--------------+----------+--------------+----------------+---------------------+------------------+------------------+--------------+-------------------+------------+-----------+--------------+---------------+--------------+--------+----------+------------------+-----------+-----------------+-------------+------------+------------+\n",
      "\n"
     ]
    }
   ],
   "source": [
    "# check if there are still vehicle_year > 2023\n",
    "parking_df6.filter(col(\"vehicle_year\") > 2023).show()"
   ]
  },
  {
   "cell_type": "markdown",
   "id": "c34ad4cd",
   "metadata": {},
   "source": [
    "# 6. meta data"
   ]
  },
  {
   "cell_type": "code",
   "execution_count": 64,
   "id": "065b178d",
   "metadata": {},
   "outputs": [
    {
     "name": "stdout",
     "output_type": "stream",
     "text": [
      "+----------------------------------+\n",
      "|count(DISTINCT registration_state)|\n",
      "+----------------------------------+\n",
      "|                                64|\n",
      "+----------------------------------+\n",
      "\n"
     ]
    }
   ],
   "source": [
    "# meta data\n",
    "# I found that there are 64 registration_state. However, there are only 50 states in the US\n",
    "spark.sql(\"SELECT count(DISTINCT registration_state) FROM parking\").show()"
   ]
  },
  {
   "cell_type": "code",
   "execution_count": 65,
   "id": "e8894e8f",
   "metadata": {},
   "outputs": [],
   "source": [
    "# find out all the US states and set the registration_state to null if they are not in states array\n",
    "states = ['AL', 'AK', 'AZ', 'AR', 'CA', 'CO', 'CT', 'DE', 'FL', 'GA', 'HI', 'ID', 'IL', 'IN', 'IA', 'KS', 'KY', 'LA', 'ME', 'MD', 'MA', 'MI', 'MN', 'MS', 'MO', 'MT', 'NE', 'NV', 'NH', 'NJ', 'NM', 'NY', 'NC', 'ND', 'OH', 'OK', 'OR', 'PA', 'RI', 'SC', 'SD', 'TN', 'TX', 'UT', 'VT', 'VA', 'WA', 'WV', 'WI', 'WY']\n",
    "parking_df7 = parking_df.withColumn('registration_state', F.when(parking_df['registration_state'].isin(states), parking_df['registration_state']).otherwise('null'))\n"
   ]
  },
  {
   "cell_type": "code",
   "execution_count": 66,
   "id": "3faabc3b",
   "metadata": {},
   "outputs": [
    {
     "data": {
      "text/plain": [
       "51"
      ]
     },
     "execution_count": 66,
     "metadata": {},
     "output_type": "execute_result"
    }
   ],
   "source": [
    "# 50 states + null should be 51.\n",
    "parking_df7.select(col(\"registration_state\")).distinct().count()"
   ]
  },
  {
   "cell_type": "code",
   "execution_count": 67,
   "id": "525d345c",
   "metadata": {},
   "outputs": [
    {
     "name": "stdout",
     "output_type": "stream",
     "text": [
      "+------------------+------+\n",
      "|registration_state| count|\n",
      "+------------------+------+\n",
      "|                NY|794106|\n",
      "|                NJ| 93049|\n",
      "|                PA| 25434|\n",
      "|                CT| 13168|\n",
      "|                FL| 12440|\n",
      "|                MA|  8720|\n",
      "|                IN|  8092|\n",
      "|                VA|  6628|\n",
      "|                MD|  5232|\n",
      "|                NC|  5082|\n",
      "|              null|  5079|\n",
      "|                IL|  3265|\n",
      "|                GA|  3188|\n",
      "|                TX|  2907|\n",
      "|                OH|  2233|\n",
      "|                ME|  2092|\n",
      "|                AZ|  1992|\n",
      "|                CA|  1991|\n",
      "|                SC|  1985|\n",
      "|                OK|  1857|\n",
      "+------------------+------+\n",
      "only showing top 20 rows\n",
      "\n"
     ]
    }
   ],
   "source": [
    "parking_df7.groupBy('registration_state').count().orderBy('count', ascending=False).show()"
   ]
  }
 ],
 "metadata": {
  "kernelspec": {
   "display_name": "Python 3 (ipykernel)",
   "language": "python",
   "name": "python3"
  },
  "language_info": {
   "codemirror_mode": {
    "name": "ipython",
    "version": 3
   },
   "file_extension": ".py",
   "mimetype": "text/x-python",
   "name": "python",
   "nbconvert_exporter": "python",
   "pygments_lexer": "ipython3",
   "version": "3.8.13"
  }
 },
 "nbformat": 4,
 "nbformat_minor": 5
}
